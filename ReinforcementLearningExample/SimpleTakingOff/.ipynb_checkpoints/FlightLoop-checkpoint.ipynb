{
 "cells": [
  {
   "cell_type": "markdown",
   "metadata": {},
   "source": [
    "# Simple taking off through python script\n",
    "---\n",
    "In this notebook, We will implement python client to take off the Airplane\n",
    "\n",
    "### 1. Import the Necessary Packages"
   ]
  },
  {
   "cell_type": "code",
   "execution_count": 1,
   "metadata": {},
   "outputs": [
    {
     "ename": "ModuleNotFoundError",
     "evalue": "No module named 'PIL'",
     "output_type": "error",
     "traceback": [
      "\u001b[0;31m---------------------------------------------------------------------------\u001b[0m",
      "\u001b[0;31mModuleNotFoundError\u001b[0m                       Traceback (most recent call last)",
      "\u001b[0;32m/tmp/ipykernel_81529/1383690874.py\u001b[0m in \u001b[0;36m<module>\u001b[0;34m\u001b[0m\n\u001b[1;32m      3\u001b[0m \u001b[0;32mimport\u001b[0m \u001b[0mtime\u001b[0m\u001b[0;34m\u001b[0m\u001b[0;34m\u001b[0m\u001b[0m\n\u001b[1;32m      4\u001b[0m \u001b[0;32mfrom\u001b[0m \u001b[0mpprint\u001b[0m \u001b[0;32mimport\u001b[0m \u001b[0mpprint\u001b[0m\u001b[0;34m\u001b[0m\u001b[0;34m\u001b[0m\u001b[0m\n\u001b[0;32m----> 5\u001b[0;31m \u001b[0;32mimport\u001b[0m \u001b[0mPIL\u001b[0m\u001b[0;34m.\u001b[0m\u001b[0mImage\u001b[0m \u001b[0;32mas\u001b[0m \u001b[0mImage\u001b[0m\u001b[0;34m\u001b[0m\u001b[0;34m\u001b[0m\u001b[0m\n\u001b[0m\u001b[1;32m      6\u001b[0m \u001b[0;32mfrom\u001b[0m \u001b[0mcollections\u001b[0m \u001b[0;32mimport\u001b[0m \u001b[0mdeque\u001b[0m\u001b[0;34m\u001b[0m\u001b[0;34m\u001b[0m\u001b[0m\n\u001b[1;32m      7\u001b[0m \u001b[0;32mimport\u001b[0m \u001b[0mbase64\u001b[0m\u001b[0;34m\u001b[0m\u001b[0;34m\u001b[0m\u001b[0m\n",
      "\u001b[0;31mModuleNotFoundError\u001b[0m: No module named 'PIL'"
     ]
    }
   ],
   "source": [
    "from AirControl import actions\n",
    "\n",
    "import time\n",
    "from pprint import pprint\n",
    "# import PIL.Image as Image\n",
    "from collections import deque\n",
    "import base64\n",
    "import numpy as np\n",
    "import matplotlib.cm as cm\n",
    "from io import BytesIO\n",
    "from matplotlib.pyplot import  imshow\n",
    "import matplotlib.pyplot as plt\n",
    "import torch\n",
    "import matplotlib.animation as animation\n",
    "from AirControl import sample_generator\n",
    "\n",
    "from tqdm import tqdm\n",
    "\n",
    "sample = sample_generator.samples()\n",
    "A =  actions.Actions()\n",
    "\n",
    "%matplotlib inline"
   ]
  },
  {
   "cell_type": "code",
   "execution_count": null,
   "metadata": {},
   "outputs": [],
   "source": [
    "# get connected to server\n",
    "A.get_connected()"
   ]
  },
  {
   "cell_type": "markdown",
   "metadata": {},
   "source": [
    "### 2. Instantiate the Environment and Agent\n",
    "\n",
    "Initialize the environment in the code cell below."
   ]
  },
  {
   "cell_type": "code",
   "execution_count": null,
   "metadata": {},
   "outputs": [],
   "source": [
    "\n",
    "def reset():\n",
    "    output = A.reset(IsOutput=True)\n",
    "    A.set_audio(EnableAudio=False, IsActive=True)\n",
    "    A.set_ui(ShowUIElements=True, IsActive= True)\n",
    "    A.set_camera(ActiveCamera=1, IsActive=True, IsCapture=True, CaptureCamera=1, CaptureType=0,CaptureHeight=540, CaptureWidth=960)\n",
    "    return output"
   ]
  },
  {
   "cell_type": "code",
   "execution_count": null,
   "metadata": {},
   "outputs": [],
   "source": [
    "def output_to_Features(output):\n",
    "    \"\"\"\n",
    "    output2features(output)\n",
    "    Args:\n",
    "        ```\n",
    "        output ([type]): [description]\n",
    "        >>> ([0.905434847,\n",
    "        0.00182869844,\n",
    "        0.000590562,\n",
    "        0.0,\n",
    "        0.0,\n",
    "        0.021583642933333334,\n",
    "        0.325318575,\n",
    "        0.0460257],\n",
    "        True)\n",
    "        ```\n",
    "    Returns:\n",
    "        [type]: flight status\n",
    "        [bool]: if collided\n",
    "    \"\"\"\n",
    "    MSL = output['MSL']\n",
    "    Latitude = output['Latitude']\n",
    "    Longitude = output['Longitude']\n",
    "    normalizedRPM =  output['CurrentRPM']/output['MaxRPM']\n",
    "    normalizedPower =  output['CurrentPower']/output['MaxPower']\n",
    "    normalizedSpeed = output['CurrentSpeed']/150\n",
    "    pitchAngle = output['PitchAngle']\n",
    "    bankAngle = output['BankAngle']\n",
    "    ifCollision = output['IfCollision']\n",
    "    collisionObject = output['collisionObject']\n",
    "    Reward = output[\"Reward\"]\n",
    "    feature_vector = [MSL, Latitude, Longitude, normalizedRPM, normalizedPower, normalizedSpeed, pitchAngle, bankAngle]\n",
    "    return np.asarray(feature_vector),Reward, ifCollision,collisionObject\n",
    "    \n",
    "    "
   ]
  },
  {
   "cell_type": "code",
   "execution_count": null,
   "metadata": {},
   "outputs": [],
   "source": [
    "def act(self, state, eps=0.):\n",
    "        \"\"\"Returns actions for given state as per current policy.\n",
    "        \n",
    "        Params\n",
    "        ======\n",
    "            state (array_like): current state\n",
    "            eps (float): epsilon, for epsilon-greedy action selection\n",
    "        \"\"\"\n",
    "        # Using Random policy\n",
    "        return [sample.get_random_pitch(), sample.get_random_yaw(), sample.get_random_roll(), sample.get_random_stickythrottle()]"
   ]
  },
  {
   "cell_type": "markdown",
   "metadata": {},
   "source": [
    "## Simple Loop to trigger actions on the plane"
   ]
  },
  {
   "cell_type": "code",
   "execution_count": null,
   "metadata": {},
   "outputs": [],
   "source": [
    "# watch an untrained agent\n",
    "output = reset()\n",
    "features,reward, ifCollided,_ = output_to_Features(output)\n",
    "eps = 1.0\n",
    "frames = [] # for storing the generated images\n",
    "fig = plt.figure()\n",
    "while (True):\n",
    "        action = act(features, eps)\n",
    "        pitch =  action[0]\n",
    "        yaw = action[1]\n",
    "        roll= action[2]\n",
    "        stickyThrottle=action[3]\n",
    "        # print(pitch, yaw, roll, stickyThrottle)\n",
    "        output = A.step(Pitch=pitch, Yaw=yaw, Roll=roll, StickyThrottle=stickyThrottle)\n",
    "        features,reward, ifCollided,collisionObject = output_to_Features(output)\n",
    "#         image = output['ScreenCapture']\n",
    "#         if image != \"\":\n",
    "#             im = Image.open(BytesIO(base64.b64decode(image)))\n",
    "#             imshow(np.asarray(im))\n",
    "#             frames.append(im)\n",
    "#             # Save into a GIF file that loops forever\n",
    "#             frames[0].save('sample.gif', format='GIF',append_images=frames[0:],save_all=True,duration=300, loop=0)\n",
    "        if ifCollided:\n",
    "            print(\"🔁 Reset Triggered , Collided with {0} \".format(collisionObject))\n",
    "            output = reset()\n",
    "        if len(frames)>=100:\n",
    "            break"
   ]
  },
  {
   "cell_type": "markdown",
   "metadata": {},
   "source": [
    "### Show Created Sequence\n",
    "![SegmentLocal](sample.gif \"segment\")"
   ]
  }
 ],
 "metadata": {
  "kernelspec": {
   "display_name": "Python 3 (ipykernel)",
   "language": "python",
   "name": "python3"
  },
  "language_info": {
   "codemirror_mode": {
    "name": "ipython",
    "version": 3
   },
   "file_extension": ".py",
   "mimetype": "text/x-python",
   "name": "python",
   "nbconvert_exporter": "python",
   "pygments_lexer": "ipython3",
   "version": "3.7.3"
  }
 },
 "nbformat": 4,
 "nbformat_minor": 2
}
