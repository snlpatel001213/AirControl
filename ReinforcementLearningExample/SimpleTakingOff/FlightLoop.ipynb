{
 "cells": [
  {
   "cell_type": "markdown",
   "metadata": {},
   "source": [
    "# Simple taking off through python script\n",
    "---\n",
    "In this notebook, We will implement python client to take off the Airplane\n",
    "\n",
    "### 1. Import the Necessary Packages"
   ]
  },
  {
   "cell_type": "code",
   "execution_count": 1,
   "metadata": {},
   "outputs": [
    {
     "name": "stdout",
     "output_type": "stream",
     "text": [
      "Now play the environment and call call method `Action.get_connected` to get connected\n"
     ]
    }
   ],
   "source": [
    "from AirControl import actions\n",
    "\n",
    "import time\n",
    "from pprint import pprint\n",
    "# import PIL.Image as Image\n",
    "from collections import deque\n",
    "import base64\n",
    "import numpy as np\n",
    "import matplotlib.cm as cm\n",
    "from io import BytesIO\n",
    "from matplotlib.pyplot import  imshow\n",
    "import matplotlib.pyplot as plt\n",
    "import matplotlib.animation as animation\n",
    "from AirControl import sample_generator\n",
    "\n",
    "from tqdm import tqdm\n",
    "\n",
    "sample = sample_generator.samples()\n",
    "A =  actions.Actions()\n",
    "\n",
    "%matplotlib inline"
   ]
  },
  {
   "cell_type": "code",
   "execution_count": 2,
   "metadata": {},
   "outputs": [],
   "source": [
    "# get connected to server\n",
    "A.get_connected()"
   ]
  },
  {
   "cell_type": "markdown",
   "metadata": {},
   "source": [
    "### 2. Instantiate the Environment and Agent\n",
    "\n",
    "Initialize the environment in the code cell below."
   ]
  },
  {
   "cell_type": "code",
   "execution_count": 3,
   "metadata": {},
   "outputs": [],
   "source": [
    "\n",
    "def reset():\n",
    "    output = A.reset(IsOutput=True)\n",
    "    A.set_audio(EnableAudio=False, IsActive=True)\n",
    "    A.set_ui(ShowUIElements=True, IsActive= True)\n",
    "    A.set_camera(ActiveCamera=1, IsActive=True, IsCapture=True, CaptureCamera=1, CaptureType=0,CaptureHeight=540, CaptureWidth=960)\n",
    "    return output"
   ]
  },
  {
   "cell_type": "code",
   "execution_count": 4,
   "metadata": {},
   "outputs": [],
   "source": [
    "def output_to_Features(output):\n",
    "    \"\"\"\n",
    "    output2features(output)\n",
    "    Args:\n",
    "        ```\n",
    "        output ([type]): [description]\n",
    "        >>> ([0.905434847,\n",
    "        0.00182869844,\n",
    "        0.000590562,\n",
    "        0.0,\n",
    "        0.0,\n",
    "        0.021583642933333334,\n",
    "        0.325318575,\n",
    "        0.0460257],\n",
    "        True)\n",
    "        ```\n",
    "    Returns:\n",
    "        [type]: flight status\n",
    "        [bool]: if collided\n",
    "    \"\"\"\n",
    "    MSL = output['MSL']\n",
    "    Latitude = output['Latitude']\n",
    "    Longitude = output['Longitude']\n",
    "    normalizedRPM =  output['CurrentRPM']/output['MaxRPM']\n",
    "    normalizedPower =  output['CurrentPower']/output['MaxPower']\n",
    "    normalizedSpeed = output['CurrentSpeed']/150\n",
    "    pitchAngle = output['PitchAngle']\n",
    "    bankAngle = output['BankAngle']\n",
    "    ifCollision = output['IfCollision']\n",
    "    collisionObject = output['CollisionObject']\n",
    "    Reward = output[\"Reward\"]\n",
    "    feature_vector = [MSL, Latitude, Longitude, normalizedRPM, normalizedPower, normalizedSpeed, pitchAngle, bankAngle]\n",
    "    return np.asarray(feature_vector),Reward, ifCollision,collisionObject\n",
    "    \n",
    "    "
   ]
  },
  {
   "cell_type": "code",
   "execution_count": 5,
   "metadata": {},
   "outputs": [],
   "source": [
    "def act(self, state, eps=0.):\n",
    "        \"\"\"Returns actions for given state as per current policy.\n",
    "        \n",
    "        Params\n",
    "        ======\n",
    "            state (array_like): current state\n",
    "            eps (float): epsilon, for epsilon-greedy action selection\n",
    "        \"\"\"\n",
    "        # Using Random policy\n",
    "        return [sample.get_random_pitch(), sample.get_random_yaw(), sample.get_random_roll(), sample.get_random_stickythrottle()]"
   ]
  },
  {
   "cell_type": "markdown",
   "metadata": {},
   "source": [
    "## Simple Loop to trigger actions on the plane"
   ]
  },
  {
   "cell_type": "code",
   "execution_count": 6,
   "metadata": {},
   "outputs": [
    {
     "name": "stdout",
     "output_type": "stream",
     "text": [
      "🔁 Reset Triggered , Collided with Untagged \n",
      "🔁 Reset Triggered , Collided with Untagged \n",
      "🔁 Reset Triggered , Collided with Runway \n",
      "🔁 Reset Triggered , Collided with Untagged \n",
      "🔁 Reset Triggered , Collided with Runway \n"
     ]
    },
    {
     "ename": "SyntaxError",
     "evalue": "unexpected EOF while parsing (<string>, line 0)",
     "output_type": "error",
     "traceback": [
      "Traceback \u001b[0;36m(most recent call last)\u001b[0m:\n",
      "  File \u001b[1;32m\"/home/supatel/miniconda3/lib/python3.7/site-packages/IPython/core/interactiveshell.py\"\u001b[0m, line \u001b[1;32m3457\u001b[0m, in \u001b[1;35mrun_code\u001b[0m\n    exec(code_obj, self.user_global_ns, self.user_ns)\n",
      "  File \u001b[1;32m\"/tmp/ipykernel_14770/930299579.py\"\u001b[0m, line \u001b[1;32m14\u001b[0m, in \u001b[1;35m<module>\u001b[0m\n    output = A.step(Pitch=pitch, Yaw=yaw, Roll=roll, StickyThrottle=stickyThrottle)\n",
      "  File \u001b[1;32m\"/home/supatel/.local/lib/python3.7/site-packages/AirControl-0.1.0-py3.7.egg/AirControl/actions.py\"\u001b[0m, line \u001b[1;32m152\u001b[0m, in \u001b[1;35mstep\u001b[0m\n    output =  self.connection.receive_data()\n",
      "\u001b[0;36m  File \u001b[0;32m\"/home/supatel/.local/lib/python3.7/site-packages/AirControl-0.1.0-py3.7.egg/AirControl/communicator.py\"\u001b[0;36m, line \u001b[0;32m69\u001b[0;36m, in \u001b[0;35mreceive_data\u001b[0;36m\u001b[0m\n\u001b[0;31m    data = eval(data)\u001b[0m\n",
      "\u001b[0;36m  File \u001b[0;32m\"<string>\"\u001b[0;36m, line \u001b[0;32munknown\u001b[0m\n\u001b[0;31m    \u001b[0m\n\u001b[0m    ^\u001b[0m\n\u001b[0;31mSyntaxError\u001b[0m\u001b[0;31m:\u001b[0m unexpected EOF while parsing\n"
     ]
    },
    {
     "data": {
      "text/plain": [
       "<Figure size 432x288 with 0 Axes>"
      ]
     },
     "metadata": {},
     "output_type": "display_data"
    }
   ],
   "source": [
    "# watch an untrained agent\n",
    "output = reset()\n",
    "features,reward, ifCollided,_ = output_to_Features(output)\n",
    "eps = 1.0\n",
    "frames = [] # for storing the generated images\n",
    "fig = plt.figure()\n",
    "while (True):\n",
    "        action = act(features, eps)\n",
    "        pitch =  action[0]\n",
    "        yaw = action[1]\n",
    "        roll= action[2]\n",
    "        stickyThrottle=action[3]\n",
    "        # print(pitch, yaw, roll, stickyThrottle)\n",
    "        output = A.step(Pitch=pitch, Yaw=yaw, Roll=roll, StickyThrottle=stickyThrottle)\n",
    "        features,reward, ifCollided,collisionObject = output_to_Features(output)\n",
    "#         image = output['ScreenCapture']\n",
    "#         if image != \"\":\n",
    "#             im = Image.open(BytesIO(base64.b64decode(image)))\n",
    "#             imshow(np.asarray(im))\n",
    "#             frames.append(im)\n",
    "#             # Save into a GIF file that loops forever\n",
    "#             frames[0].save('sample.gif', format='GIF',append_images=frames[0:],save_all=True,duration=300, loop=0)\n",
    "        if ifCollided:\n",
    "            print(\"🔁 Reset Triggered , Collided with {0} \".format(collisionObject))\n",
    "            output = reset()\n",
    "        if len(frames)>=100:\n",
    "            break"
   ]
  },
  {
   "cell_type": "markdown",
   "metadata": {},
   "source": [
    "### Show Created Sequence\n",
    "![SegmentLocal](sample.gif \"segment\")"
   ]
  }
 ],
 "metadata": {
  "kernelspec": {
   "display_name": "Python 3 (ipykernel)",
   "language": "python",
   "name": "python3"
  },
  "language_info": {
   "codemirror_mode": {
    "name": "ipython",
    "version": 3
   },
   "file_extension": ".py",
   "mimetype": "text/x-python",
   "name": "python",
   "nbconvert_exporter": "python",
   "pygments_lexer": "ipython3",
   "version": "3.7.3"
  }
 },
 "nbformat": 4,
 "nbformat_minor": 2
}
