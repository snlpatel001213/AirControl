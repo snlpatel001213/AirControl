{
 "cells": [
  {
   "cell_type": "code",
   "execution_count": 3,
   "metadata": {},
   "outputs": [],
   "source": [
    "import socket\n",
    "import time\n",
    "import json\n",
    "from pprint import pprint"
   ]
  },
  {
   "cell_type": "code",
   "execution_count": 4,
   "metadata": {},
   "outputs": [],
   "source": [
    "host, port =  \"127.0.0.1\" , 8053\n",
    "sock = socket.socket(socket.AF_INET, socket.SOCK_STREAM)\n",
    "sock.connect((host,port))"
   ]
  },
  {
   "cell_type": "code",
   "execution_count": 5,
   "metadata": {},
   "outputs": [],
   "source": [
    "transaction_dict = {\n",
    "            \"MsgType\": \"Transcation\",\n",
    "            \"Version\": \"0.0.4\",\n",
    "            \"InputControlType\": \"Other\",\n",
    "            \"IsActive\": \"false\",\n",
    "            \"LevelReload\": \"false\",\n",
    "            \"ActiveCamera\": 0,\n",
    "            \"CaptureScreen\": \"true\",\n",
    "            \"ScreenCaptureType\": 0\n",
    "        }"
   ]
  },
  {
   "cell_type": "code",
   "execution_count": 6,
   "metadata": {},
   "outputs": [],
   "source": [
    "def recvall(sock):\n",
    "    BUFF_SIZE = 4096 # 4 KiB\n",
    "    data = b''\n",
    "    while True:\n",
    "        part = sock.recv(BUFF_SIZE)\n",
    "        data += part\n",
    "        if len(part) < BUFF_SIZE:\n",
    "            # either 0 or end of data\n",
    "            break\n",
    "    return data"
   ]
  },
  {
   "cell_type": "code",
   "execution_count": 7,
   "metadata": {},
   "outputs": [
    {
     "name": "stdout",
     "output_type": "stream",
     "text": [
      "3730\n"
     ]
    }
   ],
   "source": [
    "data = json.dumps(transaction_dict)\n",
    "try:    \n",
    "    sock.sendall(data.encode(\"utf-8\"))\n",
    "    data = recvall(sock)\n",
    "    pprint(len(data))\n",
    "\n",
    "except Exception as e:\n",
    "    print(\">>>>>>>>>>>>\",e)"
   ]
  },
  {
   "cell_type": "code",
   "execution_count": 5,
   "metadata": {},
   "outputs": [],
   "source": [
    "dict_ = {\n",
    "    \"i\":0,\n",
    "        \"MsgType\": \"Incoming\",\n",
    "        \"Version\": \"0.0.3\",\n",
    "        \"InputControlType\": \"Other\",\n",
    "        \"AirplaneDrag\": 0.01,\n",
    "        \"AirplaneAngularDrag\": 0.1,\n",
    "        \"AirplanemaxMPH\": 150.0,\n",
    "        \"MaxLiftPower\": 200.0,\n",
    "        \"Pitch\": -0.2,\n",
    "        \"Roll\": -0.2,\n",
    "        \"Yaw\": 0.0,\n",
    "        \"Throttle\": 0.0,\n",
    "        \"StickyThrottle\": 0.5,\n",
    "        \"Brake\": 0.0,\n",
    "        \"Flaps\": 0\n",
    "    }"
   ]
  },
  {
   "cell_type": "code",
   "execution_count": 6,
   "metadata": {},
   "outputs": [
    {
     "name": "stdout",
     "output_type": "stream",
     "text": [
      "{\"i\": 0, \"MsgType\": \"Incoming\", \"Version\": \"0.0.3\", \"InputControlType\": \"Other\", \"AirplaneDrag\": 0.01, \"AirplaneAngularDrag\": 0.1, \"AirplanemaxMPH\": 150.0, \"MaxLiftPower\": 200.0, \"Pitch\": -0.2, \"Roll\": -0.2, \"Yaw\": 0.0, \"Throttle\": 0.0, \"StickyThrottle\": 0.5, \"Brake\": 0.0, \"Flaps\": 0}\n"
     ]
    }
   ],
   "source": [
    "data = json.dumps(dict_)\n",
    "try:    \n",
    "    print(data)\n",
    "    sock.send(data.encode(\"utf-8\"))\n",
    "    data = recvall(sock)\n",
    "    pprint(data)\n",
    "\n",
    "except Exception as e:\n",
    "    print(\">>>>>>>>>>>>\",e)"
   ]
  },
  {
   "cell_type": "code",
   "execution_count": 8,
   "metadata": {},
   "outputs": [
    {
     "ename": "NameError",
     "evalue": "name 'dict_' is not defined",
     "output_type": "error",
     "traceback": [
      "\u001b[0;31m---------------------------------------------------------------------------\u001b[0m",
      "\u001b[0;31mNameError\u001b[0m                                 Traceback (most recent call last)",
      "\u001b[0;32m/tmp/ipykernel_15946/1989108447.py\u001b[0m in \u001b[0;36m<module>\u001b[0;34m\u001b[0m\n\u001b[1;32m      1\u001b[0m \u001b[0;32mfor\u001b[0m \u001b[0mi\u001b[0m \u001b[0;32min\u001b[0m \u001b[0mrange\u001b[0m\u001b[0;34m(\u001b[0m\u001b[0;36m100000\u001b[0m\u001b[0;34m)\u001b[0m\u001b[0;34m:\u001b[0m\u001b[0;34m\u001b[0m\u001b[0;34m\u001b[0m\u001b[0m\n\u001b[0;32m----> 2\u001b[0;31m     \u001b[0mdict_\u001b[0m\u001b[0;34m[\u001b[0m\u001b[0;34m\"i\"\u001b[0m\u001b[0;34m]\u001b[0m\u001b[0;34m=\u001b[0m\u001b[0mi\u001b[0m\u001b[0;34m\u001b[0m\u001b[0;34m\u001b[0m\u001b[0m\n\u001b[0m\u001b[1;32m      3\u001b[0m     \u001b[0mdata\u001b[0m \u001b[0;34m=\u001b[0m \u001b[0mjson\u001b[0m\u001b[0;34m.\u001b[0m\u001b[0mdumps\u001b[0m\u001b[0;34m(\u001b[0m\u001b[0mdict_\u001b[0m\u001b[0;34m)\u001b[0m\u001b[0;34m\u001b[0m\u001b[0;34m\u001b[0m\u001b[0m\n\u001b[1;32m      4\u001b[0m     \u001b[0;32mtry\u001b[0m\u001b[0;34m:\u001b[0m\u001b[0;34m\u001b[0m\u001b[0;34m\u001b[0m\u001b[0m\n\u001b[1;32m      5\u001b[0m         \u001b[0mprint\u001b[0m\u001b[0;34m(\u001b[0m\u001b[0mdata\u001b[0m\u001b[0;34m)\u001b[0m\u001b[0;34m\u001b[0m\u001b[0;34m\u001b[0m\u001b[0m\n",
      "\u001b[0;31mNameError\u001b[0m: name 'dict_' is not defined"
     ]
    }
   ],
   "source": [
    "for i in range(100000):\n",
    "    dict_[\"i\"]=i\n",
    "    data = json.dumps(dict_)\n",
    "    try:\n",
    "        print(data)\n",
    "        sock.send(data.encode(\"utf-8\"))\n",
    "        data = recvall(sock)\n",
    "        print(data)\n",
    "\n",
    "    except Exception as e:\n",
    "        print(\">>>>>>>>>>>>\",e)\n",
    "    time.sleep(0.1)"
   ]
  },
  {
   "cell_type": "code",
   "execution_count": null,
   "metadata": {},
   "outputs": [],
   "source": [
    "transaction_dict = {\n",
    "            \"MsgType\": \"Transcation\",\n",
    "            \"Version\": \"0.0.3\",\n",
    "            \"InputControlType\": \"Code\",\n",
    "            \"LevelReload\": \"false\",\n",
    "            \"ActiveCamera\": 1,\n",
    "            \"IsActive\":\"true\",\n",
    "            \"GetOutput\": \"true\",\n",
    "            \"SunLatitude\": -500.39,\n",
    "            \"SunLongitude\": -1650.4,\n",
    "            \"SunHour\": 16,\n",
    "            \"SunMinute\": 5\n",
    "        }\n"
   ]
  },
  {
   "cell_type": "code",
   "execution_count": 9,
   "metadata": {},
   "outputs": [
    {
     "name": "stdout",
     "output_type": "stream",
     "text": [
      "{\"AGL\":15.360239,\"MSL\":2487.323,\"CurrentRPM\":2500.0,\"MaxRPM\":2500.0,\"MaxPower\":5000.0,\"CurrentPower\":5000.0,\"CurrentFuel\":0.0,\"CurrentSpeed\":37.8821335,\"BankAngle\":-0.000351754745,\"PitchAngle\":57.03928,\"MsgType\":\"Outgoing\",\"Version\":\"0.0.3\"}\n"
     ]
    }
   ],
   "source": [
    "data = json.dumps(transaction_dict)\n",
    "try:    \n",
    "    sock.sendall(data.encode(\"utf-8\"))\n",
    "    data = sock.recv(1024).decode(\"utf-8\")\n",
    "    print(data)\n",
    "\n",
    "except Exception as e:\n",
    "    print(\">>>>>>>>>>>>\",e)"
   ]
  },
  {
   "cell_type": "code",
   "execution_count": null,
   "metadata": {},
   "outputs": [],
   "source": [
    "sock.close()"
   ]
  }
 ],
 "metadata": {
  "interpreter": {
   "hash": "31f2aee4e71d21fbe5cf8b01ff0e069b9275f58929596ceb00d14d90e3e16cd6"
  },
  "kernelspec": {
   "display_name": "Python 3 (ipykernel)",
   "language": "python",
   "name": "python3"
  },
  "language_info": {
   "codemirror_mode": {
    "name": "ipython",
    "version": 3
   },
   "file_extension": ".py",
   "mimetype": "text/x-python",
   "name": "python",
   "nbconvert_exporter": "python",
   "pygments_lexer": "ipython3",
   "version": "3.8.10"
  }
 },
 "nbformat": 4,
 "nbformat_minor": 2
}
