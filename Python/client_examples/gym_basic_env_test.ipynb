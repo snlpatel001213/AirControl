{
 "cells": [
  {
   "cell_type": "markdown",
   "metadata": {},
   "source": [
    "# Infrastructure"
   ]
  },
  {
   "cell_type": "markdown",
   "metadata": {},
   "source": [
    "Purpose of this project: set up a custom gym environment, from scratch, with different versions. Train model with simple q-learning, see how to make it compatible with stable baselines. "
   ]
  },
  {
   "cell_type": "code",
   "execution_count": 8,
   "metadata": {},
   "outputs": [],
   "source": [
    "import numpy as np\n",
    "import gym\n",
    "import random\n",
    "# 158595"
   ]
  },
  {
   "cell_type": "markdown",
   "metadata": {},
   "source": [
    "Creating environments."
   ]
  },
  {
   "cell_type": "code",
   "execution_count": 9,
   "metadata": {},
   "outputs": [
    {
     "name": "stdout",
     "output_type": "stream",
     "text": [
      "\u001b[32mLoading environment from /home/supatel/Games/AirControl_2021/Build/FORSIMULATION/Linux/vFORSIMULATION-AirControl.x86_64 at port 8899 client ip 127.0.1.1 client port 8899\n",
      "\u001b[0m\n",
      "['/home/supatel/Games/AirControl_2021/Build/FORSIMULATION/Linux/vFORSIMULATION-AirControl.x86_64', '--serverPort', '8899', '--clientIP', '127.0.1.1', '--clientPort', '8899']\n",
      "\u001b[32mSleeping for 5 seconds to allow environment load\n",
      "\u001b[0m\n",
      "[UnityMemory] Configuration Parameters - Can be set up in boot.config\n",
      "    \"memorysetup-bucket-allocator-granularity=16\"\n",
      "    \"memorysetup-bucket-allocator-bucket-count=8\"\n",
      "    \"memorysetup-bucket-allocator-block-size=4194304\"\n",
      "    \"memorysetup-bucket-allocator-block-count=1\"\n",
      "    \"memorysetup-main-allocator-block-size=16777216\"\n",
      "    \"memorysetup-thread-allocator-block-size=16777216\"\n",
      "    \"memorysetup-gfx-main-allocator-block-size=16777216\"\n",
      "    \"memorysetup-gfx-thread-allocator-block-size=16777216\"\n",
      "    \"memorysetup-cache-allocator-block-size=4194304\"\n",
      "    \"memorysetup-typetree-allocator-block-size=2097152\"\n",
      "    \"memorysetup-profiler-bucket-allocator-granularity=16\"\n",
      "    \"memorysetup-profiler-bucket-allocator-bucket-count=8\"\n",
      "    \"memorysetup-profiler-bucket-allocator-block-size=4194304\"\n",
      "    \"memorysetup-profiler-bucket-allocator-block-count=1\"\n",
      "    \"memorysetup-profiler-allocator-block-size=16777216\"\n",
      "    \"memorysetup-profiler-editor-allocator-block-size=1048576\"\n",
      "    \"memorysetup-temp-allocator-size-main=4194304\"\n",
      "    \"memorysetup-job-temp-allocator-block-size=2097152\"\n",
      "    \"memorysetup-job-temp-allocator-block-size-background=1048576\"\n",
      "    \"memorysetup-job-temp-allocator-reduction-small-platforms=262144\"\n",
      "    \"memorysetup-temp-allocator-size-background-worker=32768\"\n",
      "    \"memorysetup-temp-allocator-size-job-worker=262144\"\n",
      "    \"memorysetup-temp-allocator-size-preload-manager=262144\"\n",
      "    \"memorysetup-temp-allocator-size-nav-mesh-worker=65536\"\n",
      "    \"memorysetup-temp-allocator-size-audio-worker=65536\"\n",
      "    \"memorysetup-temp-allocator-size-cloud-worker=32768\"\n",
      "    \"memorysetup-temp-allocator-size-gfx=262144\"\n",
      "\u001b[32mNow call method `.get_connected(port=<Default 8053>)` to get connected\n",
      "\u001b[0m\n",
      "\u001b[32mConnecting with port 8899\n",
      "\u001b[0m\n"
     ]
    }
   ],
   "source": [
    "# method 1 - build from gym package\n",
    "env = gym.make(\"airctrl:AirControl150\")"
   ]
  },
  {
   "cell_type": "code",
   "execution_count": 10,
   "metadata": {},
   "outputs": [
    {
     "data": {
      "text/plain": [
       "array([ 4.7221241e-04, -1.6739967e-06,  5.3206945e-06,  0.0000000e+00,\n",
       "        0.0000000e+00,  0.0000000e+00,  3.2662457e-01,  1.7784832e-03,\n",
       "        1.0000000e+00,  0.0000000e+00,  0.0000000e+00,  0.0000000e+00,\n",
       "        8.6829074e-05,  1.4393036e-04, -6.6494058e-06, -1.7101765e-07,\n",
       "       -3.3069577e-05, -9.6493559e-06,  9.4704086e-01,  9.9994034e-01,\n",
       "        3.0028954e-04,  9.4704086e-01,  9.9994034e-01,  3.0028986e-04,\n",
       "        0.0000000e+00,  0.0000000e+00,  0.0000000e+00,  0.0000000e+00,\n",
       "        0.0000000e+00,  0.0000000e+00,  0.0000000e+00,  0.0000000e+00,\n",
       "        0.0000000e+00,  0.0000000e+00,  0.0000000e+00,  0.0000000e+00,\n",
       "        0.0000000e+00,  0.0000000e+00,  0.0000000e+00,  0.0000000e+00,\n",
       "        0.0000000e+00,  0.0000000e+00,  0.0000000e+00,  0.0000000e+00,\n",
       "        0.0000000e+00,  0.0000000e+00,  0.0000000e+00,  0.0000000e+00,\n",
       "        0.0000000e+00,  0.0000000e+00,  0.0000000e+00,  0.0000000e+00,\n",
       "        0.0000000e+00,  0.0000000e+00,  0.0000000e+00,  0.0000000e+00,\n",
       "        0.0000000e+00,  0.0000000e+00,  0.0000000e+00,  0.0000000e+00,\n",
       "        0.0000000e+00,  0.0000000e+00,  0.0000000e+00,  0.0000000e+00,\n",
       "        0.0000000e+00,  0.0000000e+00,  0.0000000e+00,  0.0000000e+00,\n",
       "        0.0000000e+00,  0.0000000e+00,  0.0000000e+00,  0.0000000e+00,\n",
       "        0.0000000e+00,  0.0000000e+00,  0.0000000e+00,  0.0000000e+00,\n",
       "        0.0000000e+00,  0.0000000e+00,  0.0000000e+00,  0.0000000e+00,\n",
       "        0.0000000e+00,  0.0000000e+00,  0.0000000e+00,  0.0000000e+00,\n",
       "        0.0000000e+00,  0.0000000e+00,  0.0000000e+00,  0.0000000e+00,\n",
       "        0.0000000e+00,  0.0000000e+00,  0.0000000e+00,  0.0000000e+00,\n",
       "        0.0000000e+00,  0.0000000e+00,  0.0000000e+00,  0.0000000e+00,\n",
       "        0.0000000e+00,  0.0000000e+00,  0.0000000e+00,  0.0000000e+00,\n",
       "        0.0000000e+00,  0.0000000e+00,  0.0000000e+00,  0.0000000e+00,\n",
       "        0.0000000e+00,  0.0000000e+00,  0.0000000e+00,  0.0000000e+00,\n",
       "        0.0000000e+00,  0.0000000e+00,  0.0000000e+00,  0.0000000e+00,\n",
       "        0.0000000e+00,  0.0000000e+00,  0.0000000e+00,  0.0000000e+00,\n",
       "        0.0000000e+00,  3.9056712e-01,  6.1783600e-01,  7.2157997e-01,\n",
       "        7.8097159e-01,  8.1943452e-01,  8.4636641e-01,  8.6627167e-01,\n",
       "        8.8157851e-01,  8.9371222e-01,  9.0356398e-01,  9.1171962e-01,\n",
       "        9.1858053e-01,  9.2443085e-01,  9.2947668e-01,  9.3387175e-01,\n",
       "        9.3773365e-01,  9.4115227e-01,  9.4419843e-01,  9.4693011e-01,\n",
       "        9.4939184e-01,  9.5162106e-01,  9.5364910e-01,  9.5550025e-01,\n",
       "        9.5719707e-01,  9.5875698e-01,  9.6019560e-01,  9.6152616e-01,\n",
       "        9.6275973e-01,  9.6508408e-01,  9.6611673e-01,  9.6708030e-01,\n",
       "        9.6798116e-01,  9.6882474e-01,  9.6961600e-01,  9.7035927e-01,\n",
       "        9.7105849e-01,  9.7171700e-01,  9.7233796e-01,  9.7292423e-01,\n",
       "        9.7347826e-01,  9.7400230e-01,  9.7449839e-01,  9.7496837e-01,\n",
       "        9.7541410e-01,  9.7583693e-01,  9.7623837e-01,  9.7661966e-01,\n",
       "        9.7698206e-01,  9.7732651e-01,  9.7765416e-01,  9.7796583e-01,\n",
       "        9.7826242e-01,  9.7854465e-01,  9.7881329e-01,  9.7906899e-01,\n",
       "        9.7931242e-01,  9.7954404e-01,  9.7976440e-01,  9.7997409e-01,\n",
       "        9.8017347e-01,  9.8036301e-01,  9.8054308e-01,  9.8071408e-01,\n",
       "        9.8087627e-01,  9.8103011e-01,  9.8117572e-01,  9.8131353e-01,\n",
       "        9.8144370e-01,  9.8156649e-01,  9.8168212e-01,  9.8179078e-01,\n",
       "        9.8189270e-01,  9.8198801e-01,  9.8207688e-01,  9.8215950e-01,\n",
       "        9.8223597e-01,  9.8230642e-01,  9.8237097e-01,  9.8242974e-01,\n",
       "        9.8248273e-01,  9.8253018e-01,  9.8257202e-01,  9.8260838e-01,\n",
       "        9.8263931e-01,  9.8266488e-01,  9.8268509e-01,  9.8270005e-01,\n",
       "        9.8270965e-01,  9.8271400e-01,  9.8271310e-01,  9.8270690e-01,\n",
       "        9.8269546e-01,  9.8267865e-01,  9.8265660e-01,  9.8262918e-01,\n",
       "        9.8259634e-01,  9.8255807e-01,  9.8251426e-01,  9.8246491e-01,\n",
       "        9.8240989e-01,  9.8234916e-01,  9.8228258e-01,  9.8221004e-01,\n",
       "        9.8213142e-01,  9.8204666e-01,  9.8195553e-01,  9.8185796e-01,\n",
       "        9.8175371e-01,  9.8164260e-01,  9.8152453e-01,  9.8139918e-01,\n",
       "        9.8126638e-01,  9.8112589e-01,  9.8097748e-01,  9.8082078e-01,\n",
       "        9.8065549e-01,  9.8048145e-01,  9.8029810e-01,  9.8010516e-01,\n",
       "        9.7990227e-01,  9.7968888e-01,  9.7946465e-01,  9.7922897e-01,\n",
       "        9.7898138e-01,  9.7872126e-01,  9.7844797e-01,  9.7816080e-01,\n",
       "        9.7785902e-01,  9.7754192e-01,  9.7720850e-01,  9.7685790e-01,\n",
       "        9.7648907e-01,  9.7610086e-01,  9.7569215e-01,  9.7526151e-01,\n",
       "        9.7480756e-01,  9.7432864e-01,  9.7382301e-01,  9.7328877e-01,\n",
       "        9.7272384e-01,  9.7212577e-01,  9.7149205e-01,  9.7081971e-01,\n",
       "        9.7010559e-01,  9.6934605e-01,  9.6853709e-01,  9.6767414e-01,\n",
       "        9.6675217e-01,  9.6576524e-01,  9.6470690e-01,  9.6356958e-01,\n",
       "        9.6234465e-01,  9.6102214e-01,  9.5959067e-01,  9.5803678e-01,\n",
       "        9.5634478e-01,  9.5449615e-01,  9.5246887e-01,  9.5023668e-01,\n",
       "        9.4776785e-01,  9.4502360e-01,  9.4195640e-01,  9.3850678e-01,\n",
       "        9.3460011e-01,  9.3014073e-01,  9.2500412e-01,  9.1902560e-01,\n",
       "        9.1198200e-01,  9.0356427e-01,  8.9333034e-01,  8.8062584e-01,\n",
       "        8.6443889e-01,  8.4311765e-01,  8.0721480e-01,  7.6269996e-01,\n",
       "        6.9133252e-01,  6.4092898e-01,  6.3878512e-01,  6.3204432e-01,\n",
       "        6.2235409e-01,  6.1612725e-01,  5.9683341e-01,  5.8887857e-01,\n",
       "        5.8678752e-01,  5.8508694e-01,  5.8233052e-01,  5.7929432e-01,\n",
       "        5.7568812e-01,  5.7131606e-01,  5.6671989e-01,  5.6242871e-01,\n",
       "        5.5628771e-01,  5.3553593e-01,  5.3678757e-01,  5.3703630e-01,\n",
       "        5.2604485e-01,  0.0000000e+00,  0.0000000e+00,  0.0000000e+00,\n",
       "        0.0000000e+00,  0.0000000e+00,  0.0000000e+00,  0.0000000e+00,\n",
       "        0.0000000e+00,  0.0000000e+00,  0.0000000e+00,  0.0000000e+00,\n",
       "        0.0000000e+00,  0.0000000e+00,  0.0000000e+00,  0.0000000e+00,\n",
       "        0.0000000e+00,  0.0000000e+00,  0.0000000e+00,  0.0000000e+00,\n",
       "        0.0000000e+00,  0.0000000e+00,  0.0000000e+00,  0.0000000e+00,\n",
       "        0.0000000e+00,  0.0000000e+00,  0.0000000e+00,  0.0000000e+00,\n",
       "        0.0000000e+00,  0.0000000e+00,  0.0000000e+00,  0.0000000e+00,\n",
       "        0.0000000e+00,  0.0000000e+00,  0.0000000e+00,  0.0000000e+00,\n",
       "        0.0000000e+00,  0.0000000e+00,  0.0000000e+00,  0.0000000e+00,\n",
       "        0.0000000e+00,  0.0000000e+00,  0.0000000e+00,  0.0000000e+00,\n",
       "        0.0000000e+00,  0.0000000e+00,  0.0000000e+00,  0.0000000e+00,\n",
       "        0.0000000e+00,  0.0000000e+00,  0.0000000e+00,  0.0000000e+00,\n",
       "        0.0000000e+00,  0.0000000e+00,  0.0000000e+00,  0.0000000e+00,\n",
       "        0.0000000e+00,  0.0000000e+00,  0.0000000e+00,  0.0000000e+00,\n",
       "        0.0000000e+00,  0.0000000e+00,  0.0000000e+00,  0.0000000e+00,\n",
       "        0.0000000e+00,  0.0000000e+00,  0.0000000e+00,  0.0000000e+00,\n",
       "        0.0000000e+00,  0.0000000e+00,  0.0000000e+00,  0.0000000e+00,\n",
       "        0.0000000e+00], dtype=float32)"
      ]
     },
     "execution_count": 10,
     "metadata": {},
     "output_type": "execute_result"
    }
   ],
   "source": [
    "env.reset()"
   ]
  },
  {
   "cell_type": "code",
   "execution_count": 11,
   "metadata": {},
   "outputs": [
    {
     "name": "stdout",
     "output_type": "stream",
     "text": [
      "Already rendered at pid :  166363\n"
     ]
    }
   ],
   "source": [
    "env.render()"
   ]
  },
  {
   "cell_type": "markdown",
   "metadata": {},
   "source": [
    "# Q-Learning"
   ]
  },
  {
   "cell_type": "markdown",
   "metadata": {},
   "source": [
    "Source: https://deeplizard.com/learn/video/HGeI30uATws\n",
    "\n",
    "I copied the code and tested it with the custom environment instead of the built-in Frozen Lake environment. "
   ]
  },
  {
   "cell_type": "code",
   "execution_count": 12,
   "metadata": {},
   "outputs": [
    {
     "data": {
      "text/plain": [
       "Box(-1.0, 1.0, (4,), float32)"
      ]
     },
     "execution_count": 12,
     "metadata": {},
     "output_type": "execute_result"
    }
   ],
   "source": [
    "env.action_space"
   ]
  },
  {
   "cell_type": "code",
   "execution_count": 13,
   "metadata": {},
   "outputs": [],
   "source": [
    "num_episodes = 10\n",
    "max_steps_per_episode = 10 # but it won't go higher than 1\n",
    "\n",
    "learning_rate = 0.1\n",
    "discount_rate = 0.99\n",
    "\n",
    "exploration_rate = 1\n",
    "max_exploration_rate = 1\n",
    "min_exploration_rate = 0.01\n",
    "\n",
    "exploration_decay_rate = 0.01 #if we decrease it, will learn slower"
   ]
  },
  {
   "cell_type": "code",
   "execution_count": 14,
   "metadata": {},
   "outputs": [
    {
     "name": "stdout",
     "output_type": "stream",
     "text": [
      "Average  reward :  1.2700604481679836\n"
     ]
    }
   ],
   "source": [
    "rewards_all_episodes = []\n",
    "\n",
    "# Q-Learning algorithm\n",
    "for episode in range(num_episodes):\n",
    "    state = env.reset()\n",
    "    \n",
    "    done = False\n",
    "    rewards_current_episode = 0\n",
    "    \n",
    "    for step in range(max_steps_per_episode):\n",
    "        \n",
    "        # Exploration -exploitation trade-off\n",
    "        exploration_rate_threshold = random.uniform(0,1)\n",
    "        action = env.action_space.sample()\n",
    "            \n",
    "        new_state, reward, done, info = env.step(action)\n",
    "        \n",
    "        # Update Q-table for Q(s,a)\n",
    "            \n",
    "        state = new_state\n",
    "        rewards_current_episode += reward\n",
    "        \n",
    "        if done == True: \n",
    "            break\n",
    "            \n",
    "    # Exploration rate decay\n",
    "    exploration_rate = min_exploration_rate + \\\n",
    "        (max_exploration_rate - min_exploration_rate) * np.exp(-exploration_decay_rate * episode)\n",
    "    \n",
    "    rewards_all_episodes.append(rewards_current_episode)\n",
    "    \n",
    "# Calculate and print the average reward per 10 episodes\n",
    "reward_average = np.sum(rewards_all_episodes)/ num_episodes\n",
    "print(\"Average  reward : \",reward_average)\n",
    "        "
   ]
  }
 ],
 "metadata": {
  "kernelspec": {
   "display_name": "Python 3.8.8 ('gymtest': venv)",
   "language": "python",
   "name": "python3"
  },
  "language_info": {
   "codemirror_mode": {
    "name": "ipython",
    "version": 3
   },
   "file_extension": ".py",
   "mimetype": "text/x-python",
   "name": "python",
   "nbconvert_exporter": "python",
   "pygments_lexer": "ipython3",
   "version": "3.8.8"
  },
  "toc": {
   "base_numbering": 1,
   "nav_menu": {},
   "number_sections": true,
   "sideBar": true,
   "skip_h1_title": false,
   "title_cell": "Table of Contents",
   "title_sidebar": "Contents",
   "toc_cell": false,
   "toc_position": {},
   "toc_section_display": true,
   "toc_window_display": false
  },
  "varInspector": {
   "cols": {
    "lenName": 16,
    "lenType": 16,
    "lenVar": 40
   },
   "kernels_config": {
    "python": {
     "delete_cmd_postfix": "",
     "delete_cmd_prefix": "del ",
     "library": "var_list.py",
     "varRefreshCmd": "print(var_dic_list())"
    },
    "r": {
     "delete_cmd_postfix": ") ",
     "delete_cmd_prefix": "rm(",
     "library": "var_list.r",
     "varRefreshCmd": "cat(var_dic_list()) "
    }
   },
   "types_to_exclude": [
    "module",
    "function",
    "builtin_function_or_method",
    "instance",
    "_Feature"
   ],
   "window_display": false
  },
  "vscode": {
   "interpreter": {
    "hash": "e399874992f8ff2b2f542b9c735c9f88e8610782f988ba041441fde02eeffdfd"
   }
  }
 },
 "nbformat": 4,
 "nbformat_minor": 4
}
