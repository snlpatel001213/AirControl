{
 "cells": [
  {
   "cell_type": "markdown",
   "metadata": {},
   "source": [
    "# Simple taking off through python script\n",
    "---\n",
    "In this notebook, We will implement python client to take off the Airplane\n",
    "\n",
    "### 1. Import the Necessary Packages"
   ]
  },
  {
   "cell_type": "code",
   "execution_count": 1,
   "metadata": {},
   "outputs": [],
   "source": [
    "import sys\n",
    "sys.path.append(\"../../\")"
   ]
  },
  {
   "cell_type": "code",
   "execution_count": 2,
   "metadata": {},
   "outputs": [],
   "source": [
    "import sys\n",
    "from pprint import pprint\n",
    "import PIL.Image as Image\n",
    "import base64\n",
    "import numpy as np\n",
    "from io import BytesIO\n",
    "from matplotlib.pyplot import  imshow\n",
    "import matplotlib.pyplot as plt\n",
    "%matplotlib inline"
   ]
  },
  {
   "cell_type": "code",
   "execution_count": 3,
   "metadata": {},
   "outputs": [
    {
     "name": "stdout",
     "output_type": "stream",
     "text": [
      "\u001b[32mNow call method `.get_connected(port=<Default 8053>)` to get connected\n",
      "\u001b[0m\n"
     ]
    }
   ],
   "source": [
    "from airctrl import environment \n",
    "from airctrl import sample_generator\n",
    "from airctrl.utils import unity\n",
    "from airctrl import sample_generator\n",
    "port=8999\n",
    "sample = sample_generator.samples()\n",
    "env =  environment.Trigger()\n",
    "L = unity.Launch()"
   ]
  },
  {
   "cell_type": "code",
   "execution_count": 4,
   "metadata": {},
   "outputs": [
    {
     "name": "stdout",
     "output_type": "stream",
     "text": [
      "\u001b[32mLoading environment from /home/supatel/Games/AirControl_2021/Build/1.3.0/Linux/v1.3.0-AirControl.x86_64 at port 8999 client ip 127.0.1.1 client port 8999\n",
      "\u001b[0m\n",
      "['/home/supatel/Games/AirControl_2021/Build/1.3.0/Linux/v1.3.0-AirControl.x86_64', '--serverPort', '8999', '--clientIP', '127.0.1.1', '--clientPort', '8999']\n",
      "\u001b[32mSleeping for 5 seconds to allow environment load\n",
      "\u001b[0m\n",
      "[UnityMemory] Configuration Parameters - Can be set up in boot.config\n",
      "    \"memorysetup-bucket-allocator-granularity=16\"\n",
      "    \"memorysetup-bucket-allocator-bucket-count=8\"\n",
      "    \"memorysetup-bucket-allocator-block-size=4194304\"\n",
      "    \"memorysetup-bucket-allocator-block-count=1\"\n",
      "    \"memorysetup-main-allocator-block-size=16777216\"\n",
      "    \"memorysetup-thread-allocator-block-size=16777216\"\n",
      "    \"memorysetup-gfx-main-allocator-block-size=16777216\"\n",
      "    \"memorysetup-gfx-thread-allocator-block-size=16777216\"\n",
      "    \"memorysetup-cache-allocator-block-size=4194304\"\n",
      "    \"memorysetup-typetree-allocator-block-size=2097152\"\n",
      "    \"memorysetup-profiler-bucket-allocator-granularity=16\"\n",
      "    \"memorysetup-profiler-bucket-allocator-bucket-count=8\"\n",
      "    \"memorysetup-profiler-bucket-allocator-block-size=4194304\"\n",
      "    \"memorysetup-profiler-bucket-allocator-block-count=1\"\n",
      "    \"memorysetup-profiler-allocator-block-size=16777216\"\n",
      "    \"memorysetup-profiler-editor-allocator-block-size=1048576\"\n",
      "    \"memorysetup-temp-allocator-size-main=4194304\"\n",
      "    \"memorysetup-job-temp-allocator-block-size=2097152\"\n",
      "    \"memorysetup-job-temp-allocator-block-size-background=1048576\"\n",
      "    \"memorysetup-job-temp-allocator-reduction-small-platforms=262144\"\n",
      "    \"memorysetup-temp-allocator-size-background-worker=32768\"\n",
      "    \"memorysetup-temp-allocator-size-job-worker=262144\"\n",
      "    \"memorysetup-temp-allocator-size-preload-manager=262144\"\n",
      "    \"memorysetup-temp-allocator-size-nav-mesh-worker=65536\"\n",
      "    \"memorysetup-temp-allocator-size-audio-worker=65536\"\n",
      "    \"memorysetup-temp-allocator-size-cloud-worker=32768\"\n",
      "    \"memorysetup-temp-allocator-size-gfx=262144\"\n",
      "\u001b[32mConnecting with port 8999\n",
      "\u001b[0m\n"
     ]
    }
   ],
   "source": [
    "process = L.launch_executable(\"/home/supatel/Games/AirControl_2021/Build/1.3.0/Linux/v1.3.0-AirControl.x86_64\", server_port=port)\n",
    "env.get_connected(port=port)"
   ]
  },
  {
   "cell_type": "markdown",
   "metadata": {},
   "source": [
    "### 2. Instantiate the Environment and Agent\n",
    "\n",
    "Initialize the environment in the code cell below."
   ]
  },
  {
   "cell_type": "code",
   "execution_count": 5,
   "metadata": {},
   "outputs": [],
   "source": [
    "def env_reset():\n",
    "    output = env.reset(IsOutput=True)\n",
    "    env.set_audio(IsActive=True, EnableAudio=False)\n",
    "    env.set_ui(ShowUIElements=True, IsActive= True)\n",
    "    env.set_camera(ActiveCamera=1, IsActive=True, IsCapture=True, CaptureCamera=1, CaptureType=0,CaptureHeight=540, CaptureWidth=960)\n",
    "    env.set_lidar(IsActive=False)\n",
    "    return output"
   ]
  },
  {
   "cell_type": "code",
   "execution_count": 6,
   "metadata": {},
   "outputs": [],
   "source": [
    "def output_to_Features(output):\n",
    "    \"\"\"\n",
    "    output2features(output)\n",
    "    Args:\n",
    "        ```\n",
    "        output ([type]): [description]\n",
    "        >>> ([0.905434847,\n",
    "        0.00182869844,\n",
    "        0.000590562,\n",
    "        0.0,\n",
    "        0.0,\n",
    "        0.021583642933333334,\n",
    "        0.325318575,\n",
    "        0.0460257],\n",
    "        True)\n",
    "        ```\n",
    "    Returns:\n",
    "        [type]: flight status\n",
    "        [bool]: if collided\n",
    "    \"\"\"\n",
    "    MSL = output['MSL']\n",
    "    Latitude = output['Latitude']\n",
    "    Longitude = output['Longitude']\n",
    "    normalizedRPM =  output['CurrentRPM']\n",
    "    normalizedPower =  output['CurrentPower']\n",
    "    normalizedSpeed = output['CurrentSpeed']\n",
    "    pitchAngle = output['PitchAngle']\n",
    "    bankAngle = output['BankAngle']\n",
    "    ifCollision = output['IfCollision']\n",
    "    collisionObject = output['CollisionObject']\n",
    "    Reward = output[\"Reward\"] # Normalizing rewards\n",
    "    IsGrounded = 1.0 if(output[\"IsGrounded\"]) else 0.0\n",
    "    IsFlying = 1.0 if(output[\"IsFlying\"]) else 0.0\n",
    "    IsTaxiing = 1.0 if(output[\"IsTaxiing\"]) else 0.0\n",
    "    PosXAbs = (output[\"PosXAbs\"])\n",
    "    PosYAbs = (output[\"PosYAbs\"])\n",
    "    PosZAbs = (output[\"PosZAbs\"])\n",
    "    PosXRel = (output[\"PosXRel\"])\n",
    "    PosYRel = (output[\"PosYRel\"])\n",
    "    PosZRel = (output[\"PosZRel\"])\n",
    "    RotXAbs = (output[\"RotXAbs\"])\n",
    "    RotYAbs = (output[\"RotYAbs\"])\n",
    "    RotZAbs = (output[\"RotZAbs\"])\n",
    "    RotXRel = (output[\"RotXRel\"])\n",
    "    RotYRel = (output[\"RotYRel\"])\n",
    "    RotZRel = (output[\"RotZRel\"])\n",
    "    LidarPointCloud = 1.0-np.asarray(output['LidarPointCloud'])\n",
    "\n",
    "    feature_vector = [MSL, Latitude, Longitude, normalizedRPM, normalizedPower, normalizedSpeed, pitchAngle, \\\n",
    "                      bankAngle, IsGrounded, IsFlying, IsTaxiing, ifCollision, \\\n",
    "                     PosXAbs, PosYAbs, PosZAbs, PosXRel, PosYRel, PosZRel,RotXAbs,RotYAbs,RotZAbs,RotXRel,RotYRel,RotZRel, ifCollision] + LidarPointCloud.tolist()\n",
    "\n",
    "    return np.asarray(feature_vector),Reward, ifCollision,collisionObject"
   ]
  },
  {
   "cell_type": "code",
   "execution_count": 7,
   "metadata": {},
   "outputs": [],
   "source": [
    "def act(self, state, eps=0.):\n",
    "        \"\"\"Returns actions for given state as per current policy.\n",
    "        \n",
    "        Params\n",
    "        ======\n",
    "            state (array_like): current state\n",
    "            eps (float): epsilon, for epsilon-greedy action selection\n",
    "        \"\"\"\n",
    "        # Using Random policy\n",
    "        return [sample.get_random_pitch(), sample.get_random_yaw(), sample.get_random_roll(), sample.get_random_stickythrottle()]"
   ]
  },
  {
   "cell_type": "markdown",
   "metadata": {},
   "source": [
    "## Simple Loop to trigger actions on the plane"
   ]
  },
  {
   "cell_type": "code",
   "execution_count": 8,
   "metadata": {},
   "outputs": [
    {
     "name": "stdout",
     "output_type": "stream",
     "text": [
      "🔁 Reset Triggered , Collided with Runway \n"
     ]
    },
    {
     "data": {
      "text/plain": [
       "<Figure size 432x288 with 0 Axes>"
      ]
     },
     "metadata": {},
     "output_type": "display_data"
    }
   ],
   "source": [
    "# watch an untrained agent\n",
    "output = env_reset()\n",
    "features,reward, ifCollided,_ = output_to_Features(output)\n",
    "eps = 1.0\n",
    "frames = [] # for storing the generated images\n",
    "fig = plt.figure()\n",
    "while (True):\n",
    "        action = act(features, eps)\n",
    "        pitch =  action[0]\n",
    "        yaw = action[1]\n",
    "        roll= action[2]\n",
    "        stickyThrottle=action[3]\n",
    "        # print(pitch, yaw, roll, stickyThrottle)\n",
    "        output = env.step(Pitch=pitch, Yaw=yaw, Roll=roll, StickyThrottle=stickyThrottle)\n",
    "        features,reward, ifCollided,collisionObject = output_to_Features(output)\n",
    "        image = output['ScreenCapture']\n",
    "        if image != \"\":\n",
    "            im = Image.open(BytesIO(base64.b64decode(image)))\n",
    "            frames.append(im)\n",
    "            # Save into a GIF file that loops forever\n",
    "            frames[0].save('sample.gif', format='GIF',append_images=frames[0:],save_all=True,duration=300, loop=0)\n",
    "        if ifCollided:\n",
    "            if \"stuck\" in output[\"log\"]:\n",
    "                print(output[\"log\"])\n",
    "            print(\"🔁 Reset Triggered , Collided with {0} \".format(collisionObject))\n",
    "            break\n",
    "            \n",
    "            "
   ]
  },
  {
   "cell_type": "markdown",
   "metadata": {},
   "source": [
    "### Show Created Sequence\n",
    "![SegmentLocal](sample.gif \"segment\")"
   ]
  },
  {
   "cell_type": "code",
   "execution_count": null,
   "metadata": {},
   "outputs": [],
   "source": []
  }
 ],
 "metadata": {
  "kernelspec": {
   "display_name": "Python 3 (ipykernel)",
   "language": "python",
   "name": "python3"
  },
  "language_info": {
   "codemirror_mode": {
    "name": "ipython",
    "version": 3
   },
   "file_extension": ".py",
   "mimetype": "text/x-python",
   "name": "python",
   "nbconvert_exporter": "python",
   "pygments_lexer": "ipython3",
   "version": "3.7.3"
  }
 },
 "nbformat": 4,
 "nbformat_minor": 2
}
