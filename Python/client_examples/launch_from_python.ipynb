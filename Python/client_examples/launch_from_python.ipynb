{
 "cells": [
  {
   "cell_type": "code",
   "execution_count": null,
   "metadata": {},
   "outputs": [],
   "source": [
    "1 from airctrl.utils import unity\n",
    "\n",
    "ImportError: cannot import name 'unity' from 'airctrl.utils' (/home/supatel/miniconda3/lib/python3.7/site-packages/airctrl/utils/__init__.py)\n",
    "\n",
    "In [2]: from airctrl.utils import utils\n",
    "\n",
    "In [3]: L = utils.Launch()\n",
    "\n",
    "In [4]: L.launch_executable(\"/home/supatel/Games/AirControl_2020/Build/Linux/v1.0.0-AirControl.x86_64\")\n",
    "Out[4]: <subprocess.Popen at 0x7fcaff025c88>\n",
    "\n",
    "In [5]: p = L.launch_executable(\"/home/supatel/Games/AirControl_2020/Build/Linux/v1.0.0-AirControl.x86_64\")\n",
    "\n",
    "In [6]: p.terminate()\n",
    "\n"
   ]
  }
 ],
 "metadata": {
  "language_info": {
   "name": "python"
  },
  "orig_nbformat": 4
 },
 "nbformat": 4,
 "nbformat_minor": 2
}
