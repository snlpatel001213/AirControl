{
 "cells": [
  {
   "cell_type": "markdown",
   "metadata": {},
   "source": [
    "# Command Line Argument To Server"
   ]
  },
  {
   "cell_type": "markdown",
   "metadata": {},
   "source": [
    "AirControl takes following commandline arguments while launching the server\n",
    "\n",
    "```bash\n",
    "\n",
    "./Aircontrol_executable port --serverPort <port on which server will start> --clientIP <client IP addess> --clientPort <client Port>\n",
    "\n",
    "```"
   ]
  },
  {
   "cell_type": "markdown",
   "metadata": {},
   "source": [
    "Multiple server can be launced in parallel for simultaneous experiments.\n",
    "\n",
    "Client info is dispayed on the server screen to help distinguish which server is connected to which client."
   ]
  },
  {
   "cell_type": "markdown",
   "metadata": {},
   "source": [
    "## Python API for setting Client info at launch\n",
    "```python\n",
    "from airctrl.utils import unity\n",
    "L = unity.Launch()\n",
    "process = L.launch_executable(\"path to unity build executable\",server_port=8053, client_ip=None, sleeptime=5)\n",
    "```\n",
    "The function takes in the name of the executable file, the server port, the client ip and the sleep time. \n",
    "        \n",
    "It then checks if the executable file is present in the environment folder. If it is, it launches the executable file with the server port, client ip and client port as arguments. \n",
    "        \n",
    "It then sleeps for the specified time to allow the environment to load.\n",
    "        \n",
    "    file_name: The name of the executable file to launch\n",
    "    server_port: The port that the server will listen on, defaults to 8053 (optional)\n",
    "    client_ip: The IP address of the client machine\n",
    "    sleeptime: The time to wait for the environment to load, defaults to 5 (optional)\n",
    "\n",
    "The function returns process object (pid) to the server.\n",
    "\n",
    "This procees object then can be used to kill the process as `process.kill()`"
   ]
  },
  {
   "cell_type": "markdown",
   "metadata": {},
   "source": [
    "## Python API for setting Client info at runtime\n"
   ]
  },
  {
   "cell_type": "markdown",
   "metadata": {},
   "source": [
    "```python\n",
    "from airctrl import environment \n",
    "env =  environment.Trigger()\n",
    "env.get_connected()\n",
    "env.set_clientInfo(IsActive=False, ClientPort=\"\"):\n",
    "```\n",
    "\n",
    "This function is used to set the client information\n",
    "\n",
    "    IsActive: True or False, defaults to False (optional)\n",
    "    ClientPort: The port number that the client is listening on\n"
   ]
  }
 ],
 "metadata": {
  "language_info": {
   "name": "python"
  },
  "orig_nbformat": 4
 },
 "nbformat": 4,
 "nbformat_minor": 2
}
