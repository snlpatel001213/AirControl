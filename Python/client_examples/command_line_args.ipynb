{
 "cells": [
  {
   "cell_type": "markdown",
   "metadata": {},
   "source": [
    "# Command Line Argument To Server"
   ]
  },
  {
   "cell_type": "markdown",
   "metadata": {},
   "source": [
    "AirControl takes following commandline arguments while launching the server\n",
    "\n",
    "```bash\n",
    "\n",
    "./Aircontrol_executable port --serverPort <port on which server will start> --clientIP <client IP addess> --clientPort <client Port>\n",
    "\n",
    "```"
   ]
  },
  {
   "cell_type": "markdown",
   "metadata": {},
   "source": [
    "Multiple server can be alaunced in parallel for simultaneous experiment\n",
    "\n",
    "Client info is dispayed on the server screen to help distinguish which server is connected to which client."
   ]
  }
 ],
 "metadata": {
  "language_info": {
   "name": "python"
  },
  "orig_nbformat": 4
 },
 "nbformat": 4,
 "nbformat_minor": 2
}
