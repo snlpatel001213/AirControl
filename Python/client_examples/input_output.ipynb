{
 "cells": [
  {
   "cell_type": "markdown",
   "metadata": {},
   "source": [
    "# Aircontrol Input API"
   ]
  },
  {
   "cell_type": "markdown",
   "metadata": {},
   "source": [
    "Aircontrol provides fine control over inputs via python API. \n",
    "Following properties can be controlled using `set_control` function."
   ]
  },
  {
   "cell_type": "markdown",
   "metadata": {},
   "source": [
    "## Python API\n",
    "- InputControlType (str, optional): It can be either `Code` or `Other`. This is to control the internal mechanism and prevent repeted calling in already set variables. \\\n",
    "    If `InputControlType` is set to 'Code', camera cannot be controlled from Keyboard or Joystick. If `InputControlType` is set to 'Other', camera can be only controlled from Keyboard or Joystick.  Defaults to \"Code\". \n",
    "- Pitch (float, optional): The aircraft nose can rotate up and down about the y-axis, a motion known as pitch. Pitch control is typically accomplished using an elevator on the horizontal tail. Defaults to 0.0.\n",
    "- Roll (float, optional): The wingtips can rotate up and down about the x-axis, a motion known as roll. Roll control is usually provided using ailerons located at each wingtip.. Defaults to 0.0.\n",
    "- Yaw (float, optional): The nose can rotate left and right about the z-axis, a motion known as yaw.Yaw control is most often accomplished using a rudder located on the vertical tail.. Defaults to 0.0.\n",
    "- Throttle (float, optional): Controls the engine power (Deprecated), Use sticky Throttle. Defaults to 0.0.\n",
    "- StickyThrottle (float, optional): Tyoically Airplane have sticky throttles. Throttle values stay same unless moved. Defaults to 0.0.\n",
    "- Brake (int, optional): Applies brake to wheels, to control ground movement. Defaults to 0.\n",
    "- Flaps (int, optional): A flap is a high-lift device used to reduce the stalling speed of an aircraft wing at a given weight. Flaps helps in controlling descent. Defaults to 0."
   ]
  },
  {
   "cell_type": "markdown",
   "metadata": {},
   "source": [
    "## Limits\n",
    "| Control  | type  | Limit |\n",
    "|---|---|---|\n",
    "| Pitch  | float | Between -1.0 and 1.0 |\n",
    "| Yaw  | float | Between -1.0 and 1.0 |\n",
    "| Roll  | float | Between -1.0 and 1.0 |\n",
    "| Sticky Throttle  | float  |  Between 0.0 and 1.0 | |\n",
    "| Brake  | int  | 0 : Dis-engaged, 1 : Engaged  |\n",
    "| Flaps  | int | 0 : None, 1 : 15 Degree, 2 : 30 Degree  |"
   ]
  },
  {
   "cell_type": "markdown",
   "metadata": {},
   "source": [
    "## Importing Requirements"
   ]
  },
  {
   "cell_type": "code",
   "execution_count": 1,
   "metadata": {},
   "outputs": [
    {
     "name": "stdout",
     "output_type": "stream",
     "text": [
      "Now play the environment and call call method `Action.get_connected` to get connected\n"
     ]
    }
   ],
   "source": [
    "from AirControl import actions\n",
    "from pprint import pprint\n",
    "import PIL.Image as Image\n",
    "import base64\n",
    "import numpy as np\n",
    "from io import BytesIO\n",
    "from matplotlib.pyplot import  imshow\n",
    "import matplotlib.pyplot as plt\n",
    "\n",
    "A =  actions.Actions()\n"
   ]
  },
  {
   "cell_type": "code",
   "execution_count": 2,
   "metadata": {},
   "outputs": [],
   "source": [
    "A.get_connected()"
   ]
  },
  {
   "cell_type": "code",
   "execution_count": 4,
   "metadata": {},
   "outputs": [
    {
     "name": "stdout",
     "output_type": "stream",
     "text": [
      "{'MsgType': 'ControlInput', 'InputControlType': 'Code', 'Pitch': 0.0, 'Roll': 0.0, 'Yaw': 0.0, 'Throttle': 0.0, 'StickyThrottle': 0.5, 'Brake': 0, 'Flaps': 0, 'IsOutput': 'true'}\n",
      "{'AGL': 0.0, 'MSL': 39.6990051, 'CurrentRPM': 0.0, 'MaxRPM': 3000.0, 'MaxPower': 3500.0, 'CurrentPower': 0.0, 'CurrentFuel': 0.0, 'CurrentSpeed': 0.0, 'BankAngle': 0.0203302074, 'IfCollision': False, 'Latitude': -0.000202762152, 'Longitude': -7.015304e-07, 'PitchAngle': 0.33217293, 'ScreenCapture': '', 'LidarPointCloud': [100000.0, 100000.0, 100000.0, 100000.0, 100000.0, 100000.0, 100000.0, 100000.0, 100000.0, 100000.0, 100000.0, 100000.0, 100000.0, 100000.0, 100000.0, 100000.0, 100000.0, 100000.0, 100000.0, 100000.0, 100000.0, 100000.0, 3959.63525, 100000.0, 3654.51123, 3608.14819, 3657.85181, 3386.90723, 100000.0, 100000.0, 4264.679, 3273.9292, 100000.0, 100000.0, 3439.73584, 100000.0, 100000.0, 100000.0, 100000.0, 100000.0, 100000.0, 100000.0, 100000.0, 100000.0, 100000.0, 100000.0, 100000.0, 100000.0, 2197.41675, 2190.23071, 2235.46216, 2283.31152, 2333.9812, 2387.6936, 2444.69971, 2505.275, 100000.0, 100000.0, 100000.0, 100000.0, 3066.05, 100000.0, 100000.0, 4023.95386, 100000.0, 100000.0, 100000.0, 3274.538, 100000.0, 100000.0, 100000.0, 100000.0, 100000.0, 100000.0, 100000.0, 100000.0, 100000.0, 100000.0, 100000.0, 100000.0, 100000.0, 100000.0, 100000.0, 100000.0, 100000.0, 100000.0, 100000.0, 100000.0, 100000.0, 100000.0, 100000.0, 100000.0, 100000.0, 100000.0, 5481.85449, 1698.37878, 1006.388, 717.1425, 552.6791, 451.90094, 375.4479, 326.9788, 290.9096, 259.8475, 235.479782, 215.584564, 198.845169, 184.736649, 172.6651, 162.1206, 152.8338, 144.491333, 136.918213, 130.13707, 124.031921, 118.508385, 113.488976, 108.909348, 104.715538, 100.862404, 97.31131, 94.02946, 90.98854, 88.16416, 85.54175, 83.1150742, 80.84624, 78.72131, 76.7280045, 74.85539, 73.0937347, 71.4343643, 69.8694458, 68.39204, 66.9958, 65.6749954, 64.42455, 63.2397079, 62.11627, 61.0502853, 60.0382843, 59.0769844, 58.1633873, 57.2948456, 56.4687767, 55.6828346, 54.9408379, 54.2346535, 53.56248, 52.9227142, 52.3137856, 51.73431, 51.1829376, 50.6584549, 50.1597443, 49.6857567, 49.23547, 48.80803, 48.402565, 48.0182762, 47.6544456, 47.3103867, 46.9854774, 46.6791229, 46.39077, 46.1199226, 45.86612, 45.62891, 45.4078827, 45.202713, 45.01304, 44.8385353, 44.6789551, 2.162947, 2.10318542, 2.071828, 2.05951738, 1.93164742, 1.93017614, 1.92929411, 1.92900014, 1.92929411, 1.930176, 43.85126, 43.8573265, 43.8767624, 43.9095955, 43.95588, 44.015686, 44.0891, 44.17624, 44.27723, 44.3922424, 44.5214539, 44.665062, 44.8233147, 44.9964142, 45.1847, 45.38843, 45.6079865, 45.8436928, 46.0959625, 46.3652267, 46.651947, 46.9566422, 47.2798271, 47.6221046, 47.98409, 48.36647, 48.7699928, 49.1953773, 49.6435051, 50.115303, 50.6116867, 51.13377, 51.6826363, 52.2594833, 52.8656578, 53.50255, 54.1716652, 54.8746452, 55.613308, 56.38951, 57.20538, 58.0631332, 58.95332, 59.8856926, 60.8668327, 61.89984, 62.9880562, 64.1351, 65.34495, 66.62202, 67.9710846, 69.39753, 70.9072, 72.50658, 74.20287, 76.00415, 77.91938, 79.95867, 82.13322, 84.4557, 86.97627, 89.6801453, 92.58661, 95.71784, 99.09958, 102.761421, 106.738167, 111.070168, 115.80542, 121.000946, 126.724937, 133.06012, 140.031631, 147.683044, 156.269348, 165.969254, 176.770462, 188.716721, 202.460968, 218.436035, 237.840988, 262.505035, 292.9751, 331.4396, 380.741425, 446.755829, 72.07899, 650.661438, 958.8787, 1424.44421, 4334.754, 100000.0, 100000.0, 100000.0, 100000.0, 100000.0, 100000.0, 100000.0, 100000.0, 100000.0, 100000.0, 100000.0, 100000.0, 100000.0, 100000.0, 100000.0, 100000.0, 100000.0, 100000.0, 100000.0, 100000.0, 100000.0, 100000.0, 100000.0, 100000.0, 100000.0, 100000.0, 100000.0, 100000.0, 100000.0, 100000.0, 100000.0, 100000.0, 100000.0, 100000.0, 100000.0, 100000.0, 100000.0, 100000.0, 100000.0, 100000.0, 100000.0, 100000.0, 100000.0, 100000.0, 100000.0, 100000.0, 100000.0, 100000.0, 100000.0, 100000.0, 100000.0, 100000.0, 100000.0, 100000.0, 100000.0, 100000.0, 100000.0, 100000.0, 100000.0, 100000.0, 100000.0, 100000.0, 100000.0, 100000.0, 100000.0, 100000.0, 100000.0, 100000.0, 100000.0, 100000.0, 100000.0, 100000.0, 100000.0, 100000.0, 100000.0, 100000.0, 100000.0, 100000.0, 100000.0, 100000.0, 100000.0, 100000.0, 100000.0, 100000.0, 100000.0, 100000.0], 'MsgType': 'Output', 'Version': '0.0.5'}\n"
     ]
    }
   ],
   "source": [
    "control_schema = A.step(Pitch=0.0, Roll=0.0, Yaw=0.0,Throttle=0.0, StickyThrottle=0.5, Brake=0, Flaps=0,IsOutput=True)\n",
    "print(control_schema)"
   ]
  },
  {
   "cell_type": "markdown",
   "metadata": {},
   "source": [
    "## Output\n",
    "When `IsOutput` is set to `True`, the Aircontrol reply with the following output."
   ]
  },
  {
   "cell_type": "markdown",
   "metadata": {},
   "source": [
    "```\n",
    "{'AGL': 0.0,\n",
    " 'BankAngle': -2.93484618e-07,\n",
    " 'CurrentFuel': 0.0,\n",
    " 'CurrentPower': 4666.8457,\n",
    " 'CurrentRPM': 2333.42285,\n",
    " 'CurrentSpeed': 0.0,\n",
    " 'LidarPointCloud': [100000.0,\n",
    "                     100000.0,\n",
    "                     100000.0,\n",
    "                     100000.0,\n",
    "                     100000.0,\n",
    "                     100000.0,\n",
    "                     100000.0,\n",
    "                     100000.0,\n",
    "                     100000.0,\n",
    "                     100000.0,\n",
    "                     100000.0,\n",
    "                     100000.0,\n",
    "                     100000.0,\n",
    "                     100000.0,\n",
    "                     100000.0,\n",
    "                     100000.0,\n",
    "                     100000.0,\n",
    "                     100000.0,\n",
    "                     100000.0,\n",
    " 'MaxRPM': 2500.0,\n",
    " 'MsgType': 'Output',\n",
    " 'PitchAngle': 1.66752621e-08,\n",
    " 'ScreenCapture': '',\n",
    " 'Version': '0.0.4'}\n",
    "```"
   ]
  },
  {
   "cell_type": "markdown",
   "metadata": {},
   "source": [
    "![Bank Angle](../../docs/images/bankAngle.png)\n",
    "\n",
    "Angle between vertical component of the Airplane w.r.t global vertical.[Source](https://en.wikipedia.org/wiki/Flight_dynamics_(fixed-wing_aircraft))\n",
    "\n",
    "![Pitch Angle](../../docs/images/pitchAngle.png)\n",
    "\n",
    "Angle between vertical component of the Airplane w.r.t global vertical.[Source](https://en.wikipedia.org/wiki/Flight_dynamics_(fixed-wing_aircraft))"
   ]
  },
  {
   "cell_type": "markdown",
   "metadata": {},
   "source": [
    "Glossary\n",
    "---\n",
    "**AGL** : Above Ground Level, or AGL, describes the literal height above the ground over which you’re flying.This also accounts for the building and mounntain heights\n",
    "\n",
    "**MSL** : Mean Sea Level, or MSL, is your true altitude or elevation. This is measured as differrence of current height and 0.0 in XZ  plane\n",
    "\n",
    "**BankAngle** : The roll angle is also known as bank angle on a fixed-wing aircraft, which usually \"banks\" to change the horizontal direction of flight. Value in radian limit -1 to +1\n",
    "\n",
    "**PitchAngle** : angle between the aircraft longitudinal axis and horizontal; Value in radian limit -1 to +1\n",
    "\n",
    "**CurrentFuel** [WIP] : Current fuel in gallons\n",
    "\n",
    " **CurrentPower** : Current engine power\n",
    "\n",
    " **CurrentRPM** : Current Engine RPM\n",
    "\n",
    " **CurrentSpeed** :  Current Airplane Speed in Knots\n",
    "\n",
    " **MaxRPM** : Max engine RPM\n",
    "\n",
    " **ScreenCapture** :  Captured Screenshot, if proper trigger set from `set_camera` function\n",
    " \n",
    " **LidarPointCloud** :  Captured Lidar point cloud, if proper trigger set from `set_lidar` function"
   ]
  }
 ],
 "metadata": {
  "interpreter": {
   "hash": "e25000c05b9059318314f17b52328a5a24133f627d403c4e70496d99daf098c4"
  },
  "kernelspec": {
   "display_name": "Python 3.7.12 64-bit ('base': conda)",
   "language": "python",
   "name": "python3"
  },
  "language_info": {
   "codemirror_mode": {
    "name": "ipython",
    "version": 3
   },
   "file_extension": ".py",
   "mimetype": "text/x-python",
   "name": "python",
   "nbconvert_exporter": "python",
   "pygments_lexer": "ipython3",
   "version": "3.7.12"
  },
  "orig_nbformat": 4
 },
 "nbformat": 4,
 "nbformat_minor": 2
}
