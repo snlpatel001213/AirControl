{
 "cells": [
  {
   "cell_type": "markdown",
   "metadata": {},
   "source": [
    "# Aircontrol Input API"
   ]
  },
  {
   "cell_type": "markdown",
   "metadata": {},
   "source": [
    "Aircontrol provides fine control over inputs via python API. \n",
    "Following properties can be controlled using `set_control` function."
   ]
  },
  {
   "cell_type": "markdown",
   "metadata": {},
   "source": [
    "## Python API\n",
    "- InputControlType (str, optional): It can be either `Code` or `Other`. This is to control the internal mechanism and prevent repeted calling in already set variables. \\\n",
    "    If `InputControlType` is set to 'Code', camera cannot be controlled from Keyboard or Joystick. If `InputControlType` is set to 'Other', camera can be only controlled from Keyboard or Joystick.  Defaults to \"Code\". \n",
    "- Pitch (float, optional): The aircraft nose can rotate up and down about the y-axis, a motion known as pitch. Pitch control is typically accomplished using an elevator on the horizontal tail. Defaults to 0.0.\n",
    "- Roll (float, optional): The wingtips can rotate up and down about the x-axis, a motion known as roll. Roll control is usually provided using ailerons located at each wingtip.. Defaults to 0.0.\n",
    "- Yaw (float, optional): The nose can rotate left and right about the z-axis, a motion known as yaw.Yaw control is most often accomplished using a rudder located on the vertical tail.. Defaults to 0.0.\n",
    "- Throttle (float, optional): Controls the engine power (Deprecated), Use sticky Throttle. Defaults to 0.0.\n",
    "- StickyThrottle (float, optional): Tyoically Airplane have sticky throttles. Throttle values stay same unless moved. Defaults to 0.0.\n",
    "- Brake (int, optional): Applies brake to wheels, to control ground movement. Defaults to 0.\n",
    "- Flaps (int, optional): A flap is a high-lift device used to reduce the stalling speed of an aircraft wing at a given weight. Flaps helps in controlling descent. Defaults to 0."
   ]
  },
  {
   "cell_type": "markdown",
   "metadata": {},
   "source": [
    "## Limits\n",
    "| Control  | type  | Limit |\n",
    "|---|---|---|\n",
    "| Pitch  | float | Between -1.0 and 1.0 |\n",
    "| Yaw  | float | Between -1.0 and 1.0 |\n",
    "| Roll  | float | Between -1.0 and 1.0 |\n",
    "| Sticky Throttle  | float  |  Between 0.0 and 1.0 | |\n",
    "| Brake  | int  | 0 : Dis-engaged, 1 : Engaged  |\n",
    "| Flaps  | int | 0 : None, 1 : 15 Degree, 2 : 30 Degree  |"
   ]
  },
  {
   "cell_type": "markdown",
   "metadata": {},
   "source": [
    "## Importing Requirements"
   ]
  },
  {
   "cell_type": "code",
   "execution_count": 1,
   "metadata": {},
   "outputs": [],
   "source": [
    "from airctrl import environment\n",
    "from pprint import pprint\n",
    "import PIL.Image as Image\n",
    "import base64\n",
    "import numpy as np\n",
    "from io import BytesIO\n",
    "from matplotlib.pyplot import  imshow\n",
    "import matplotlib.pyplot as plt"
   ]
  },
  {
   "cell_type": "code",
   "execution_count": 2,
   "metadata": {},
   "outputs": [
    {
     "name": "stdout",
     "output_type": "stream",
     "text": [
      "\u001b[32mNow call method `.get_connected(port=<Default 8053>)` to get connected\n",
      "\u001b[0m\n"
     ]
    }
   ],
   "source": [
    "from airctrl import environment \n",
    "from airctrl import sample_generator\n",
    "from airctrl.utils import unity\n",
    "from airctrl import sample_generator\n",
    "port=8999\n",
    "sample = sample_generator.samples()\n",
    "env =  environment.Trigger()\n",
    "L = unity.Launch()"
   ]
  },
  {
   "cell_type": "code",
   "execution_count": 3,
   "metadata": {},
   "outputs": [
    {
     "name": "stdout",
     "output_type": "stream",
     "text": [
      "\u001b[32mLoading environment from /home/supatel/Games/AirControl_2021/Build/1.3.0/Linux/v1.3.0-AirControl.x86_64 at port 8999 client ip 127.0.1.1 client port 8999\n",
      "\u001b[0m\n",
      "['/home/supatel/Games/AirControl_2021/Build/1.3.0/Linux/v1.3.0-AirControl.x86_64', '--serverPort', '8999', '--clientIP', '127.0.1.1', '--clientPort', '8999']\n",
      "\u001b[32mSleeping for 5 seconds to allow environment load\n",
      "\u001b[0m\n",
      "[UnityMemory] Configuration Parameters - Can be set up in boot.config\n",
      "    \"memorysetup-bucket-allocator-granularity=16\"\n",
      "    \"memorysetup-bucket-allocator-bucket-count=8\"\n",
      "    \"memorysetup-bucket-allocator-block-size=4194304\"\n",
      "    \"memorysetup-bucket-allocator-block-count=1\"\n",
      "    \"memorysetup-main-allocator-block-size=16777216\"\n",
      "    \"memorysetup-thread-allocator-block-size=16777216\"\n",
      "    \"memorysetup-gfx-main-allocator-block-size=16777216\"\n",
      "    \"memorysetup-gfx-thread-allocator-block-size=16777216\"\n",
      "    \"memorysetup-cache-allocator-block-size=4194304\"\n",
      "    \"memorysetup-typetree-allocator-block-size=2097152\"\n",
      "    \"memorysetup-profiler-bucket-allocator-granularity=16\"\n",
      "    \"memorysetup-profiler-bucket-allocator-bucket-count=8\"\n",
      "    \"memorysetup-profiler-bucket-allocator-block-size=4194304\"\n",
      "    \"memorysetup-profiler-bucket-allocator-block-count=1\"\n",
      "    \"memorysetup-profiler-allocator-block-size=16777216\"\n",
      "    \"memorysetup-profiler-editor-allocator-block-size=1048576\"\n",
      "    \"memorysetup-temp-allocator-size-main=4194304\"\n",
      "    \"memorysetup-job-temp-allocator-block-size=2097152\"\n",
      "    \"memorysetup-job-temp-allocator-block-size-background=1048576\"\n",
      "    \"memorysetup-job-temp-allocator-reduction-small-platforms=262144\"\n",
      "    \"memorysetup-temp-allocator-size-background-worker=32768\"\n",
      "    \"memorysetup-temp-allocator-size-job-worker=262144\"\n",
      "    \"memorysetup-temp-allocator-size-preload-manager=262144\"\n",
      "    \"memorysetup-temp-allocator-size-nav-mesh-worker=65536\"\n",
      "    \"memorysetup-temp-allocator-size-audio-worker=65536\"\n",
      "    \"memorysetup-temp-allocator-size-cloud-worker=32768\"\n",
      "    \"memorysetup-temp-allocator-size-gfx=262144\"\n",
      "\u001b[32mConnecting with port 8999\n",
      "\u001b[0m\n"
     ]
    }
   ],
   "source": [
    "process = L.launch_executable(\"/home/supatel/Games/AirControl_2021/Build/1.3.0/Linux/v1.3.0-AirControl.x86_64\", server_port=port)\n",
    "env.get_connected(port=port)"
   ]
  },
  {
   "cell_type": "code",
   "execution_count": 4,
   "metadata": {},
   "outputs": [
    {
     "name": "stdout",
     "output_type": "stream",
     "text": [
      "{'AGL': 0.0, 'MSL': 4.7329154, 'CurrentRPM': 0.0, 'MaxRPM': 4500.0, 'MaxPower': 1.10416677e-05, 'CurrentPower': 0.0, 'CurrentFuel': 0.0, 'CurrentSpeed': 0.0, 'BankAngle': 0.0017182061, 'IfCollision': False, 'CollisionObject': '', 'Latitude': -1.70281146e-06, 'Longitude': 5.317519e-06, 'PitchAngle': 0.328555942, 'ScreenCapture': '', 'LidarPointCloud': [500.0, 500.0, 500.0, 500.0, 500.0, 500.0, 500.0, 500.0, 500.0, 500.0, 500.0, 500.0, 500.0, 500.0, 500.0, 500.0, 500.0, 500.0, 500.0, 500.0, 500.0, 500.0, 500.0, 500.0, 500.0, 500.0, 500.0, 500.0, 500.0, 500.0, 500.0, 500.0, 500.0, 500.0, 500.0, 500.0, 500.0, 500.0, 500.0, 500.0, 500.0, 500.0, 500.0, 500.0, 500.0, 500.0, 500.0, 500.0, 500.0, 500.0, 500.0, 500.0, 500.0, 500.0, 500.0, 500.0, 500.0, 500.0, 500.0, 500.0, 500.0, 500.0, 500.0, 500.0, 500.0, 500.0, 500.0, 500.0, 500.0, 500.0, 500.0, 500.0, 500.0, 500.0, 500.0, 500.0, 500.0, 500.0, 500.0, 500.0, 500.0, 500.0, 500.0, 500.0, 500.0, 500.0, 500.0, 500.0, 500.0, 500.0, 500.0, 500.0, 305.198425, 190.873642, 138.888733, 109.184929, 89.97085, 76.52718, 66.596344, 58.9627533, 52.91375, 48.003334, 43.93948, 40.5215073, 37.60714, 35.0940552, 32.9049, 30.9822521, 29.2800446, 27.7629089, 26.4031944, 25.1775265, 24.0678177, 23.05848, 22.1366081, 21.2921562, 20.515873, 19.7997761, 19.1377239, 18.5238552, 17.3667583, 16.85289, 16.3733921, 15.9251432, 15.5053892, 15.1116667, 14.74183, 14.3939438, 14.0662823, 13.7573051, 13.465621, 13.1899881, 12.9292688, 12.6824474, 12.4485941, 12.226861, 12.01649, 11.8167715, 11.6270676, 11.44679, 11.2754, 11.1124029, 10.9573383, 10.8097925, 10.6693735, 10.5357218, 10.4085121, 10.2874269, 10.1721945, 10.0625477, 9.958239, 9.859042, 9.764748, 9.675158, 9.590094, 9.509384, 9.432868, 9.360406, 9.291856, 9.22709, 9.16599751, 9.108461, 9.054386, 9.003675, 8.95624, 8.912006, 8.870894, 8.83284, 8.797776, 8.765651, 8.736409, 8.710009, 8.686405, 8.66556, 8.647441, 8.632024, 8.619283, 8.609197, 8.601752, 8.596936, 8.594744, 8.595168, 8.598213, 8.603881, 8.612182, 8.623128, 8.636736, 8.653026, 8.672027, 8.693763, 8.718271, 8.745589, 8.775763, 8.808835, 8.844863, 8.8839035, 8.926022, 8.971289, 9.019776, 9.071569, 9.126757, 9.185434, 9.24771, 9.31369, 9.383495, 9.457261, 9.53512, 9.617225, 9.703741, 9.794838, 9.8907, 9.991533, 10.0975485, 10.2089825, 10.3260851, 10.4491243, 10.57839, 10.7142029, 10.8568945, 11.0068417, 11.16443, 11.3301029, 11.504323, 11.6875944, 11.8804846, 12.0835876, 12.2975731, 12.52315, 12.761116, 13.0123444, 13.27779, 13.5585041, 13.8556557, 14.170536, 14.5045881, 14.8594131, 15.2367773, 15.6386967, 16.067421, 16.52549, 17.0157967, 17.5415783, 18.1065712, 18.7150745, 19.372015, 20.0830765, 20.8549271, 21.69534, 22.613512, 23.6203823, 24.728941, 25.9549732, 27.3176689, 28.840662, 30.55339, 32.49287, 34.7065468, 37.2561035, 40.223156, 43.71822, 47.8943748, 52.97047, 59.2702675, 67.29411, 77.85836, 95.64346, 117.666931, 152.927475, 179.50882, 180.588379, 183.865082, 188.81514, 191.950272, 201.559128, 205.546371, 206.6388, 207.495926, 208.869339, 210.394485, 212.201462, 214.395813, 216.70224, 218.8667, 221.949463, 232.394, 231.776016, 231.526917, 237.032074, 500.0, 500.0, 500.0, 500.0, 500.0, 500.0, 500.0, 500.0, 500.0, 500.0, 500.0, 500.0, 500.0, 500.0, 500.0, 500.0, 500.0, 500.0, 500.0, 500.0, 500.0, 500.0, 500.0, 500.0, 500.0, 500.0, 500.0, 500.0, 500.0, 500.0, 500.0, 500.0, 500.0, 500.0, 500.0, 500.0, 500.0, 500.0, 500.0, 500.0, 500.0, 500.0, 500.0, 500.0, 500.0, 500.0, 500.0, 500.0, 500.0, 500.0, 500.0, 500.0, 500.0, 500.0, 500.0, 500.0, 500.0, 500.0, 500.0, 500.0, 500.0, 500.0, 500.0, 500.0, 500.0, 500.0, 500.0, 500.0, 500.0, 500.0, 500.0, 500.0], 'Counter': 0, 'log': '', 'Reward': 0.0035562878254627784, 'IsGrounded': True, 'IsFlying': False, 'IsTaxiing': False, 'PosXAbs': 0.86777246, 'PosYAbs': 1.44259226, 'PosZAbs': -0.0676386356, 'PosXRel': -0.00222843885, 'PosYRel': -0.327407122, 'PosZRel': -0.09763813, 'RotXAbs': 340.814636, 'RotYAbs': 359.966278, 'RotZAbs': 0.105423734, 'RotXRel': 340.814636, 'RotYRel': 359.966278, 'RotZRel': 0.105423853, 'AngularXVelocity': -0.00521957874, 'AngularYVelocity': -8.102572e-05, 'AngularZVelocity': 0.00138697785, 'LinearXVelocity': -0.00184028456, 'LinearYVelocity': 0.007154375, 'LinearZVelocity': -0.09623016, 'AngularXAcceleration': 5.92379365e-05, 'AngularYAcceleration': -0.0001057535, 'AngularZAcceleration': 0.0, 'LinearXAcceleration': -0.000308157178, 'LinearYAcceleration': -0.030831784, 'LinearZAcceleration': -0.18662475, 'MsgType': 'Output', 'Version': '1.3.0'}\n"
     ]
    }
   ],
   "source": [
    "control_schema = env.step(Pitch=0.0, Roll=0.0, Yaw=0.0,Throttle=0.0, StickyThrottle=0.5, Brake=0, Flaps=0,IsOutput=True)\n",
    "print(control_schema)"
   ]
  },
  {
   "cell_type": "markdown",
   "metadata": {},
   "source": [
    "## Output\n",
    "When `IsOutput` is set to `True`, the Aircontrol reply with the following output."
   ]
  },
  {
   "cell_type": "markdown",
   "metadata": {},
   "source": [
    "```\n",
    "{\n",
    "   \"AGL\":0.0,\n",
    "   \"MSL\":4.7329154,\n",
    "   \"CurrentRPM\":0.0,\n",
    "   \"MaxRPM\":4500.0,\n",
    "   \"MaxPower\":1.10416677e-05,\n",
    "   \"CurrentPower\":0.0,\n",
    "   \"CurrentFuel\":0.0,\n",
    "   \"CurrentSpeed\":0.0,\n",
    "   \"BankAngle\":0.0017182061,\n",
    "   \"IfCollision\":false,\n",
    "   \"CollisionObject\":\"\",\n",
    "   \"Latitude\":-1.70281146e-06,\n",
    "   \"Longitude\":5.317519e-06,\n",
    "   \"PitchAngle\":0.328555942,\n",
    "   \"ScreenCapture\":\"Here the screen capture will be returned as base64 o\",\n",
    "   \"LidarPointCloud\":[\n",
    "      500.0,\n",
    "      500.0,\n",
    "      500.0,\n",
    "      500.0,\n",
    "      500.0,\n",
    "      500.0,\n",
    "      500.0,\n",
    "      500.0,\n",
    "      500.0,\n",
    "      500.0,\n",
    "      500.0,\n",
    "      500.0,\n",
    "      305.198425,\n",
    "      190.873642,\n",
    "      138.888733,\n",
    "      109.184929,\n",
    "      89.97085,\n",
    "      76.52718,\n",
    "      66.596344,\n",
    "      58.9627533,\n",
    "      52.91375,\n",
    "      48.003334,\n",
    "      43.93948,\n",
    "      40.5215073,\n",
    "      37.60714,\n",
    "      35.0940552,\n",
    "      32.9049,\n",
    "      30.9822521,\n",
    "      29.2800446,\n",
    "      27.7629089,\n",
    "      26.4031944,\n",
    "      25.1775265,\n",
    "      24.0678177,\n",
    "      500.0,\n",
    "      500.0,\n",
    "      500.0,\n",
    "      500.0,\n",
    "      500.0,\n",
    "      500.0,\n",
    "      500.0,\n",
    "      500.0,\n",
    "      500.0,\n",
    "      500.0,\n",
    "      500.0,\n",
    "      500.0,\n",
    "      500.0,\n",
    "      ...,\n",
    "      ...,\n",
    "      ...,\n",
    "   ],\n",
    "   \"Counter\":0,\n",
    "   \"log\":\"\",\n",
    "   \"Reward\":0.0035562878254627784,\n",
    "   \"IsGrounded\":true,\n",
    "   \"IsFlying\":false,\n",
    "   \"IsTaxiing\":false,\n",
    "   \"PosXAbs\":0.86777246,\n",
    "   \"PosYAbs\":1.44259226,\n",
    "   \"PosZAbs\":-0.0676386356,\n",
    "   \"PosXRel\":-0.00222843885,\n",
    "   \"PosYRel\":-0.327407122,\n",
    "   \"PosZRel\":-0.09763813,\n",
    "   \"RotXAbs\":340.814636,\n",
    "   \"RotYAbs\":359.966278,\n",
    "   \"RotZAbs\":0.105423734,\n",
    "   \"RotXRel\":340.814636,\n",
    "   \"RotYRel\":359.966278,\n",
    "   \"RotZRel\":0.105423853,\n",
    "   \"AngularXVelocity\":-0.00521957874,\n",
    "   \"AngularYVelocity\":-8.102572e-05,\n",
    "   \"AngularZVelocity\":0.00138697785,\n",
    "   \"LinearXVelocity\":-0.00184028456,\n",
    "   \"LinearYVelocity\":0.007154375,\n",
    "   \"LinearZVelocity\":-0.09623016,\n",
    "   \"AngularXAcceleration\":5.92379365e-05,\n",
    "   \"AngularYAcceleration\":-0.0001057535,\n",
    "   \"AngularZAcceleration\":0.0,\n",
    "   \"LinearXAcceleration\":-0.000308157178,\n",
    "   \"LinearYAcceleration\":-0.030831784,\n",
    "   \"LinearZAcceleration\":-0.18662475,\n",
    "   \"MsgType\":\"Output\",\n",
    "   \"Version\":\"1.3.0\"\n",
    "}\n",
    "```"
   ]
  },
  {
   "cell_type": "markdown",
   "metadata": {},
   "source": [
    "![Bank Angle](../../docs/images/bankAngle.png)\n",
    "\n",
    "Angle between vertical component of the Airplane w.r.t global vertical.[Source](https://en.wikipedia.org/wiki/Flight_dynamics_(fixed-wing_aircraft))\n",
    "\n",
    "![Pitch Angle](../../docs/images/pitchAngle.png)\n",
    "\n",
    "Angle between vertical component of the Airplane w.r.t global vertical.[Source](https://en.wikipedia.org/wiki/Flight_dynamics_(fixed-wing_aircraft))"
   ]
  },
  {
   "cell_type": "markdown",
   "metadata": {},
   "source": [
    "|Measure|Description|example|\n",
    "|:---:|:---:|:---:|\n",
    "|AGL|Above Ground Level, or AGL, describes the literal height above the ground over which you’re flying.This also accounts for the building and mounntain heights.| 0.0|\n",
    "|MSL|Mean Sea Level, or MSL, is your true altitude or elevation. This is measured as differrence of current height and 0.0 in XZ  plane.| 4.7329154|\n",
    "|BankAngle| The roll angle is also known as bank angle on a fixed-wing aircraft, which usually \"banks\" to change the horizontal direction of flight. Value in radian limit -1 to +1.| 0.0|\n",
    "|PitchAngle| Angle between the aircraft longitudinal axis and horizontal; Value in radian limit -1 to +1.| 0.328555942|\n",
    "|CurrentFuel| [WIP] : Current fuel in gallons.| 29.4|\n",
    "|CurrentPower| Current engine power.| 1.10416677e-05|\n",
    "|Current RPM| Current Engine RPM.| 0.0|\n",
    "|CurrentSpeed| Current Airplane Speed in Knots.|\n",
    "|MaxRPM| : Max engine RPM.| 4500.0|\n",
    "|ScreenCapture| Captured Screenshot, if proper trigger set from `set_camera` function|Base 64 Image|\n",
    "|LidarPointCloud| Captured Lidar point cloud, if proper trigger set from `set_lidar` function| Vector : [500.0, 500.0, 500.0, ..., 25, 190.873642, 138.888733, 109.184929]|\n",
    "|Counter| Number of request the client has sent to the server.| 13|\n",
    "|log|: Log of events, if requested.| |\n",
    "|Reward| Internal example reward system. user can define their own reward system externally.| 0.0035562878254627784|\n",
    "|IsGrounded| Indicates if the Airplane is grounded.| true|\n",
    "|IsFlying| Indicates if the Airplane is flying.| false|\n",
    "|IsTaxiing| Indicates if the Airplane is taxing on runway.| false|\n",
    "|PosXAbs| Absolute position on X axis.| 0.86777246|\n",
    "|PosYAbs| Absolute position on Y axis. | 1.44259226|\n",
    "|PosZAbs| Absolute position on Z axis. | -0.0676386356|\n",
    "|PosXRel| Relative position w.r.t start position of the Airplane on X axis.| -0.00222843885|\n",
    "|PosYRel| Absolute position w.r.t start position of the Airplane on Y axis.| -0.327407122|\n",
    "|PosZRel| Absolute position w.r.t start position of the Airplane on Z axis.| -0.09763813|\n",
    "|RotXAbs| Absolute rotation on X axis.| 340.814636|\n",
    "|RotYAbs| Absolute rotation on Y axis. | 359.966278|\n",
    "|RotZAbs| Absolute rotation on Z axis. | 0.105423734|\n",
    "|RotXRel| Absolute rotation w.r.t start rotation of the Airplane on Y axis.| 340.814636|\n",
    "|RotYRel| Absolute rotation w.r.t start rotation of the Airplane on Y axis.| 359.966278|\n",
    "|RotZRel| Absolute position w.r.t start rotation of the Airplane on Y axis.| 0.105423853|\n",
    "|AngularXVelocity| Angular velocity on X axis.| -0.00521957874|\n",
    "|AngularYVelocity| Angular velocity on Y axis.| -8.102572e-05|\n",
    "|AngularZVelocity| Angular velocity on Z axis.| 0.00138697785|\n",
    "|LinearXVelocity| Linear velocity on X axis.| -0.00184028456|\n",
    "|LinearYVelocity| Linear velocity on Y axis.| 0.007154375|\n",
    "|LinearZVelocity| Linear velocity on Z axis.| -0.09623016|\n",
    "|AngularXAcceleration| Angular acceleration on X axis.| 5.92379365e-05|\n",
    "|AngularYAcceleration| Angular acceleration on Y axis.| -0.0001057535|\n",
    "|AngularZAcceleration| Angular acceleration on Z axis.| 0.0|\n",
    "|LinearXAcceleration| Linear acceleration on Z axis.| -0.000308157178|\n",
    "|LinearYAcceleration| Linear acceleration on Z axis.| -0.030831784|\n",
    "|LinearZAcceleration| Linear acceleration on Z axis. |-0.18662475|\n",
    "|MsgType|  Message type will be output. Example |Output|\n",
    "|Version| Version of the server. |1.3.0|"
   ]
  },
  {
   "cell_type": "code",
   "execution_count": null,
   "metadata": {},
   "outputs": [],
   "source": []
  }
 ],
 "metadata": {
  "interpreter": {
   "hash": "e25000c05b9059318314f17b52328a5a24133f627d403c4e70496d99daf098c4"
  },
  "kernelspec": {
   "display_name": "Python 3 (ipykernel)",
   "language": "python",
   "name": "python3"
  },
  "language_info": {
   "codemirror_mode": {
    "name": "ipython",
    "version": 3
   },
   "file_extension": ".py",
   "mimetype": "text/x-python",
   "name": "python",
   "nbconvert_exporter": "python",
   "pygments_lexer": "ipython3",
   "version": "3.7.3"
  }
 },
 "nbformat": 4,
 "nbformat_minor": 2
}
