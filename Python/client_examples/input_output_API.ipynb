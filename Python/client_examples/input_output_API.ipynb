{
 "cells": [
  {
   "cell_type": "markdown",
   "metadata": {},
   "source": [
    "# Aircontrol Input API"
   ]
  },
  {
   "cell_type": "markdown",
   "metadata": {},
   "source": [
    "Aircontrol provides fine control over inputs via python API. \n",
    "Following properties can be controlled using `set_control` function."
   ]
  },
  {
   "cell_type": "markdown",
   "metadata": {},
   "source": [
    "## Python API\n",
    "- InputControlType (str, optional): It can be either `Code` or `Other`. This is to control the internal mechanism and prevent repeted calling in already set variables. \\\n",
    "    If `InputControlType` is set to 'Code', camera cannot be controlled from Keyboard or Joystick. If `InputControlType` is set to 'Other', camera can be only controlled from Keyboard or Joystick.  Defaults to \"Code\". \n",
    "- Pitch (float, optional): The aircraft nose can rotate up and down about the y-axis, a motion known as pitch. Pitch control is typically accomplished using an elevator on the horizontal tail. Defaults to 0.0.\n",
    "- Roll (float, optional): The wingtips can rotate up and down about the x-axis, a motion known as roll. Roll control is usually provided using ailerons located at each wingtip.. Defaults to 0.0.\n",
    "- Yaw (float, optional): The nose can rotate left and right about the z-axis, a motion known as yaw.Yaw control is most often accomplished using a rudder located on the vertical tail.. Defaults to 0.0.\n",
    "- Throttle (float, optional): Controls the engine power (Deprecated), Use sticky Throttle. Defaults to 0.0.\n",
    "- StickyThrottle (float, optional): Tyoically Airplane have sticky throttles. Throttle values stay same unless moved. Defaults to 0.0.\n",
    "- Brake (int, optional): Applies brake to wheels, to control ground movement. Defaults to 0.\n",
    "- Flaps (int, optional): A flap is a high-lift device used to reduce the stalling speed of an aircraft wing at a given weight. Flaps helps in controlling descent. Defaults to 0."
   ]
  },
  {
   "cell_type": "markdown",
   "metadata": {},
   "source": [
    "## Limits\n",
    "| Control  | type  | Limit |\n",
    "|---|---|---|\n",
    "| Pitch  | float | Between -1.0 and 1.0 |\n",
    "| Yaw  | float | Between -1.0 and 1.0 |\n",
    "| Roll  | float | Between -1.0 and 1.0 |\n",
    "| Sticky Throttle  | float  |  Between 0.0 and 1.0 | |\n",
    "| Brake  | int  | 0 : Dis-engaged, 1 : Engaged  |\n",
    "| Flaps  | int | 0 : None, 1 : 15 Degree, 2 : 30 Degree  |"
   ]
  },
  {
   "cell_type": "markdown",
   "metadata": {},
   "source": [
    "## Importing Requirements"
   ]
  },
  {
   "cell_type": "code",
   "execution_count": 1,
   "metadata": {},
   "outputs": [
    {
     "name": "stdout",
     "output_type": "stream",
     "text": [
      "Now play the environment and call call method `Action.get_connected` to get connected\n"
     ]
    }
   ],
   "source": [
    "from airctrl import environment\n",
    "\n",
    "from pprint import pprint\n",
    "import PIL.Image as Image\n",
    "import base64\n",
    "import numpy as np\n",
    "from io import BytesIO\n",
    "from matplotlib.pyplot import  imshow\n",
    "import matplotlib.pyplot as plt\n",
    "\n",
    "A =  environment.Trigger()\n"
   ]
  },
  {
   "cell_type": "code",
   "execution_count": 2,
   "metadata": {},
   "outputs": [],
   "source": [
    "A.get_connected()"
   ]
  },
  {
   "cell_type": "code",
   "execution_count": 3,
   "metadata": {},
   "outputs": [
    {
     "name": "stdout",
     "output_type": "stream",
     "text": [
      "{'MsgType': 'ControlInput', 'InputControlType': 'Code', 'Pitch': 0.0, 'Roll': 0.0, 'Yaw': 0.0, 'Throttle': 0.0, 'StickyThrottle': 0.5, 'Brake': 0, 'Flaps': 0, 'IsOutput': 'true'}\n",
      "{'AGL': 0.0, 'MSL': 39.85072, 'CurrentRPM': 0.0, 'MaxRPM': 3000.0, 'MaxPower': 3500.0, 'CurrentPower': 0.0, 'CurrentFuel': 0.0, 'CurrentSpeed': 0.0, 'BankAngle': 0.00134001346, 'IfCollision': False, 'Latitude': -1.31427014e-05, 'Longitude': -1.70549157e-07, 'PitchAngle': 0.3310233, 'ScreenCapture': '', 'LidarPointCloud': [100000.0, 100000.0, 100000.0, 100000.0, 100000.0, 100000.0, 100000.0, 100000.0, 100000.0, 100000.0, 100000.0, 100000.0, 100000.0, 100000.0, 100000.0, 100000.0, 100000.0, 100000.0, 100000.0, 100000.0, 100000.0, 3941.9, 100000.0, 3638.12451, 3593.41, 3641.781, 3371.41675, 4752.675, 4703.082, 4247.58936, 3252.33862, 100000.0, 100000.0, 3422.58643, 100000.0, 100000.0, 100000.0, 100000.0, 100000.0, 100000.0, 100000.0, 100000.0, 100000.0, 100000.0, 100000.0, 100000.0, 2228.90527, 2189.29175, 2188.979, 2214.50269, 2261.62939, 2331.79858, 2385.14575, 2440.842, 2480.1394, 100000.0, 100000.0, 100000.0, 100000.0, 3025.575, 3021.22778, 100000.0, 4000.831, 100000.0, 3717.31128, 3666.853, 3252.83545, 3263.91919, 100000.0, 100000.0, 100000.0, 100000.0, 100000.0, 100000.0, 100000.0, 100000.0, 100000.0, 100000.0, 100000.0, 100000.0, 100000.0, 100000.0, 100000.0, 100000.0, 100000.0, 100000.0, 100000.0, 100000.0, 100000.0, 100000.0, 100000.0, 2813.604, 1419.60864, 879.3093, 659.1871, 517.837036, 427.381439, 355.535828, 314.965424, 282.8769, 253.736771, 230.744125, 211.747314, 195.695389, 181.957321, 170.190033, 160.006683, 151.016663, 142.929, 135.569931, 17.0544567, 16.2663212, 15.5523386, 14.9027472, 14.309432, 13.7655754, 13.2654457, 12.8041487, 12.377491, 11.98189, 11.6142178, 11.2717733, 10.9521809, 10.6533728, 10.3735094, 10.1109724, 9.864328, 9.632296, 9.413731, 9.207607, 9.013001, 8.829087, 8.6551075, 8.490393, 8.334324, 8.186332, 8.045916, 7.912602, 7.78596973, 7.66562462, 7.551208, 7.44239044, 7.338867, 7.240362, 7.146611, 7.057382, 6.972451, 6.891614, 6.814681, 6.741476, 6.67184, 6.605621, 6.542673, 6.482875, 6.426093, 6.372227, 6.321164, 6.272806, 6.22706938, 6.18386126, 6.14310741, 6.10473537, 6.06867743, 6.03487158, 6.003256, 5.97378063, 5.94639635, 5.921057, 5.89772224, 5.87635326, 5.856916, 5.83938, 5.82371759, 2.16294718, 2.103184, 2.07182837, 2.05951643, 1.931648, 1.93017662, 1.92929471, 1.92900085, 1.92929482, 1.93017673, 5.77012968, 5.775854, 5.78335333, 5.792639, 5.80372429, 5.81663, 5.831371, 5.84797335, 5.86646366, 5.88686943, 5.909223, 5.93356133, 5.95992661, 5.988357, 6.01890326, 6.05161428, 6.08654737, 6.123764, 6.163324, 6.205305, 6.249777, 6.29682255, 6.34652853, 6.398991, 6.45431232, 6.51259756, 6.57396555, 6.638545, 6.70646572, 6.77787971, 6.85293961, 6.93181467, 7.014689, 7.101758, 7.193235, 7.289348, 7.39034843, 7.496498, 7.60809755, 7.72545671, 7.848921, 7.97886372, 8.115699, 8.259868, 8.41185951, 8.572208, 8.741506, 8.9204, 9.109598, 9.309894, 9.522161, 9.747371, 9.986612, 10.241087, 10.5121555, 10.801342, 11.1103687, 11.4412022, 11.7960291, 12.1773968, 12.5882187, 13.0318356, 13.512125, 14.0336084, 14.60158, 15.2223024, 15.90322, 16.6531925, 17.4830055, 18.405735, 19.4375439, 20.5985928, 21.914217, 23.417, 25.1492672, 27.1672516, 29.54717, 32.39484, 35.8620567, 40.1741066, 45.6806564, 52.955452, 63.0087051, 77.80274, 730.260559, 1073.279, 1731.26379, 100000.0, 100000.0, 100000.0, 100000.0, 100000.0, 100000.0, 100000.0, 100000.0, 100000.0, 100000.0, 100000.0, 100000.0, 100000.0, 100000.0, 100000.0, 100000.0, 100000.0, 100000.0, 100000.0, 100000.0, 100000.0, 100000.0, 100000.0, 100000.0, 100000.0, 100000.0, 100000.0, 100000.0, 100000.0, 100000.0, 100000.0, 100000.0, 100000.0, 100000.0, 100000.0, 100000.0, 100000.0, 100000.0, 100000.0, 100000.0, 100000.0, 100000.0, 100000.0, 100000.0, 100000.0, 100000.0, 100000.0, 100000.0, 100000.0, 100000.0, 100000.0, 100000.0, 100000.0, 100000.0, 100000.0, 100000.0, 100000.0, 100000.0, 100000.0, 100000.0, 100000.0, 100000.0, 100000.0, 100000.0, 100000.0, 100000.0, 100000.0, 100000.0, 100000.0, 100000.0, 100000.0, 100000.0, 100000.0, 100000.0, 100000.0, 100000.0, 100000.0, 100000.0, 100000.0, 100000.0, 100000.0, 100000.0, 100000.0, 100000.0, 100000.0, 100000.0, 100000.0, 100000.0, 100000.0, 100000.0], 'MsgType': 'Output', 'Version': '0.0.5'}\n"
     ]
    }
   ],
   "source": [
    "control_schema = A.step(Pitch=0.0, Roll=0.0, Yaw=0.0,Throttle=0.0, StickyThrottle=0.5, Brake=0, Flaps=0,IsOutput=True)\n",
    "print(control_schema)"
   ]
  },
  {
   "cell_type": "markdown",
   "metadata": {},
   "source": [
    "## Output\n",
    "When `IsOutput` is set to `True`, the Aircontrol reply with the following output."
   ]
  },
  {
   "cell_type": "markdown",
   "metadata": {},
   "source": [
    "```\n",
    "{'AGL': 0.0,\n",
    " 'BankAngle': -2.93484618e-07,\n",
    " 'CurrentFuel': 0.0,\n",
    " 'CurrentPower': 4666.8457,\n",
    " 'CurrentRPM': 2333.42285,\n",
    " 'CurrentSpeed': 0.0,\n",
    " 'LidarPointCloud': [100000.0,\n",
    "                     100000.0,\n",
    "                     100000.0,\n",
    "                     100000.0,\n",
    "                     100000.0,\n",
    "                     100000.0,\n",
    "                     100000.0,\n",
    "                     100000.0,\n",
    "                     100000.0,\n",
    "                     100000.0,\n",
    "                     100000.0,\n",
    "                     100000.0,\n",
    "                     100000.0,\n",
    "                     100000.0,\n",
    "                     100000.0,\n",
    "                     100000.0,\n",
    "                     100000.0,\n",
    "                     100000.0,\n",
    "                     100000.0,\n",
    " 'MaxRPM': 2500.0,\n",
    " 'MsgType': 'Output',\n",
    " 'PitchAngle': 1.66752621e-08,\n",
    " 'ScreenCapture': '',\n",
    " 'Version': '0.0.4'}\n",
    "```"
   ]
  },
  {
   "cell_type": "markdown",
   "metadata": {},
   "source": [
    "![Bank Angle](../../docs/images/bankAngle.png)\n",
    "\n",
    "Angle between vertical component of the Airplane w.r.t global vertical.[Source](https://en.wikipedia.org/wiki/Flight_dynamics_(fixed-wing_aircraft))\n",
    "\n",
    "![Pitch Angle](../../docs/images/pitchAngle.png)\n",
    "\n",
    "Angle between vertical component of the Airplane w.r.t global vertical.[Source](https://en.wikipedia.org/wiki/Flight_dynamics_(fixed-wing_aircraft))"
   ]
  },
  {
   "cell_type": "markdown",
   "metadata": {},
   "source": [
    "Glossary\n",
    "---\n",
    "**AGL** : Above Ground Level, or AGL, describes the literal height above the ground over which you’re flying.This also accounts for the building and mounntain heights\n",
    "\n",
    "**MSL** : Mean Sea Level, or MSL, is your true altitude or elevation. This is measured as differrence of current height and 0.0 in XZ  plane\n",
    "\n",
    "**BankAngle** : The roll angle is also known as bank angle on a fixed-wing aircraft, which usually \"banks\" to change the horizontal direction of flight. Value in radian limit -1 to +1\n",
    "\n",
    "**PitchAngle** : angle between the aircraft longitudinal axis and horizontal; Value in radian limit -1 to +1\n",
    "\n",
    "**CurrentFuel** [WIP] : Current fuel in gallons\n",
    "\n",
    " **CurrentPower** : Current engine power\n",
    "\n",
    " **CurrentRPM** : Current Engine RPM\n",
    "\n",
    " **CurrentSpeed** :  Current Airplane Speed in Knots\n",
    "\n",
    " **MaxRPM** : Max engine RPM\n",
    "\n",
    " **ScreenCapture** :  Captured Screenshot, if proper trigger set from `set_camera` function\n",
    " \n",
    " **LidarPointCloud** :  Captured Lidar point cloud, if proper trigger set from `set_lidar` function"
   ]
  }
 ],
 "metadata": {
  "interpreter": {
   "hash": "e25000c05b9059318314f17b52328a5a24133f627d403c4e70496d99daf098c4"
  },
  "kernelspec": {
   "display_name": "Python 3.7.12 64-bit ('base': conda)",
   "language": "python",
   "name": "python3"
  },
  "language_info": {
   "codemirror_mode": {
    "name": "ipython",
    "version": 3
   },
   "file_extension": ".py",
   "mimetype": "text/x-python",
   "name": "python",
   "nbconvert_exporter": "python",
   "pygments_lexer": "ipython3",
   "version": "3.7.12"
  },
  "orig_nbformat": 4
 },
 "nbformat": 4,
 "nbformat_minor": 2
}
