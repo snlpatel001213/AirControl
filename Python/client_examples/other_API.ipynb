{
 "cells": [
  {
   "cell_type": "markdown",
   "metadata": {},
   "source": [
    "# Aircontrol Other API"
   ]
  },
  {
   "cell_type": "markdown",
   "metadata": {},
   "source": [
    "## Importing requirements"
   ]
  },
  {
   "cell_type": "code",
   "execution_count": 19,
   "metadata": {},
   "outputs": [],
   "source": [
    "from AirControl.communicator import Communicator\n",
    "from AirControl import schemaDef\n",
    "from pprint import pprint\n",
    "import PIL.Image as Image\n",
    "import base64\n",
    "import numpy as np\n",
    "from io import BytesIO\n",
    "from matplotlib.pyplot import  imshow\n",
    "import matplotlib.pyplot as plt\n",
    "\n",
    "connection = Communicator()"
   ]
  },
  {
   "cell_type": "markdown",
   "metadata": {},
   "source": [
    "## UI and Audio\n",
    "\n",
    "**UI API** - helps in enabling and disabling the UI components like Airplane controls on screen\n",
    "\n",
    "**Audio API** - Helps in enabling and disabling Audio. \n",
    "\n",
    "## Python API\n",
    "\n",
    "- InputControlType (str, optional): It can be either `Code` or `Other`. This is to control the internal mechanism and prevent repeted calling in already set variables. \\\n",
    "If `InputControlType` is set to 'Code', camera cannot be controlled from Keyboard or Joystick. If `InputControlType` is set to 'Other', camera can be only controlled from Keyboard or Joystick.  Defaults to \"Code\". \n",
    "- ShowUIElements (bool, optional): Show UI elements if `True`, hide otherwise. Defaults to True.\n",
    "- EnableAudio (float, optional): Enable audio if `True`, mute otherwise.. Defaults to 1.0."
   ]
  },
  {
   "cell_type": "code",
   "execution_count": 20,
   "metadata": {},
   "outputs": [],
   "source": [
    "ui_audio_schema = schemaDef.set_uiaudio( ShowUIElements=False,EnableAudio=True,IsOutput=False)\n",
    "connection.send_data(ui_audio_schema)\n",
    "output =  connection.receive_data()"
   ]
  },
  {
   "cell_type": "markdown",
   "metadata": {},
   "source": [
    "## Level Reset\n",
    "Can be used to reset the level at each iteration. Typically Reinforcement learning loops requires hundreds and thousands environment reset\n",
    "\n",
    "## Python API\n",
    "\n",
    "- InputControlType (str, optional): It can be either `Code` or `Other`. This is to control the internal mechanism and prevent repeted calling in already set variables. \\\n",
    "If `InputControlType` is set to 'Code', camera cannot be controlled from Keyboard or Joystick. If `InputControlType` is set to 'Other', camera can be only controlled from Keyboard or Joystick.  Defaults to \"Code\". \n",
    "- IsActive (bool, optional): Internal mechanism to save compute, set to `True` when level reset required\n",
    "- LevelReload (bool, optional): set to `True` to reset the level. Defaults to False.\n",
    "- IsOutput (bool, optional): By default `reset_level` function only sets the internal state. `reset_level` only provide log outout and not the actual captured image. `set_control` when called it returns actual output. IF you want to force `reset_level` to return image, set `IsOutput` to True. Defaults to False.\n"
   ]
  },
  {
   "cell_type": "code",
   "execution_count": 21,
   "metadata": {},
   "outputs": [],
   "source": [
    "level_reset_schema = schemaDef.reset_level( IsActive=True, LevelReload=True,IsOutput=False)\n",
    "connection.send_data(level_reset_schema)\n",
    "output =  connection.receive_data()"
   ]
  },
  {
   "cell_type": "markdown",
   "metadata": {},
   "source": [
    "# Work In Progress"
   ]
  },
  {
   "cell_type": "markdown",
   "metadata": {},
   "source": [
    "## Fuel API\n",
    "Can be used to control initial fuel amount and fuel consumption rate."
   ]
  },
  {
   "cell_type": "markdown",
   "metadata": {},
   "source": [
    "## Weather API\n",
    "Can be used to control environmantal fog and clouds. Planned for HDRP release only."
   ]
  },
  {
   "cell_type": "markdown",
   "metadata": {},
   "source": [
    "## Collision Detection\n",
    "Will provide information about collision and object with which it collided"
   ]
  }
 ],
 "metadata": {
  "interpreter": {
   "hash": "e25000c05b9059318314f17b52328a5a24133f627d403c4e70496d99daf098c4"
  },
  "kernelspec": {
   "display_name": "Python 3 (ipykernel)",
   "language": "python",
   "name": "python3"
  },
  "language_info": {
   "codemirror_mode": {
    "name": "ipython",
    "version": 3
   },
   "file_extension": ".py",
   "mimetype": "text/x-python",
   "name": "python",
   "nbconvert_exporter": "python",
   "pygments_lexer": "ipython3",
   "version": "3.8.10"
  }
 },
 "nbformat": 4,
 "nbformat_minor": 2
}
