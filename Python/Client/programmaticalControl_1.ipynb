{
 "cells": [
  {
   "cell_type": "code",
   "execution_count": 1,
   "metadata": {},
   "outputs": [],
   "source": [
    "import socket\n",
    "import time\n",
    "import json"
   ]
  },
  {
   "cell_type": "code",
   "execution_count": 2,
   "metadata": {},
   "outputs": [],
   "source": [
    "host, port =  \"127.0.0.1\" , 8053\n",
    "sock = socket.socket(socket.AF_INET, socket.SOCK_STREAM)\n",
    "sock.connect((host,port))"
   ]
  },
  {
   "cell_type": "code",
   "execution_count": null,
   "metadata": {},
   "outputs": [],
   "source": [
    "dict_ = {\n",
    "        \"MsgType\":\"Incoming\",\n",
    "        \"InputControlType\": \"Code\",\n",
    "        \"sunPresent\": False,\n",
    "        \"sunLocation_x\": 0.0,\n",
    "        \"sunLocation_y\": 0.0,\n",
    "        \"sunLocation_z\": 0.0,\n",
    "        \"sunRotation_x\": 0.0,\n",
    "        \"sunRotation_y\": 0.0,\n",
    "        \"sunRotation_z\": 0.0,\n",
    "        \"AirplaneDrag\": 0.01,\n",
    "        \"AirplaneAngularDrag\": 0.1,\n",
    "        \"AirplanemaxMPH\": 150.0,\n",
    "        \"maxLiftPower\": 200.0,\n",
    "        \"Pitch\":0,\n",
    "        \"Roll\": 0.0,\n",
    "        \"Yaw\": 0.0,\n",
    "        \"Throttle\": 0.0,\n",
    "        \"StickyThrottle\": 1.0,\n",
    "        \"Brake\": 0,\n",
    "        \"Flaps\":0\n",
    "    }"
   ]
  },
  {
   "cell_type": "code",
   "execution_count": null,
   "metadata": {},
   "outputs": [],
   "source": [
    "data = json.dumps(dict_)\n",
    "try:    \n",
    "    sock.sendall(data.encode(\"utf-8\"))\n",
    "    data = sock.recv(1024).decode(\"utf-8\")\n",
    "    print(data)\n",
    "\n",
    "except Exception as e:\n",
    "    print(\">>>>>>>>>>>>\",e)"
   ]
  },
  {
   "cell_type": "code",
   "execution_count": 6,
   "metadata": {},
   "outputs": [],
   "source": [
    "transaction_dict = {\n",
    "            \"MsgType\": \"Transcation\",\n",
    "            \"Version\": \"0.0.3\",\n",
    "            \"InputControlType\": \"Code\",\n",
    "            \"LevelReload\": \"false\",\n",
    "            \"ActiveCamera\": 1,\n",
    "            \"IsActive\":\"true\",\n",
    "            \"GetOutput\": \"true\",\n",
    "            \"SunLatitude\": -800.39,\n",
    "            \"SunLongitude\": -1650.4,\n",
    "            \"SunHour\": 16,\n",
    "            \"SunMinute\": 5\n",
    "        }\n"
   ]
  },
  {
   "cell_type": "code",
   "execution_count": 7,
   "metadata": {},
   "outputs": [
    {
     "name": "stdout",
     "output_type": "stream",
     "text": [
      "{\"MsgType\":\"Outgoing\",\"Version\":\"0.0.3\",\"InputControlType\":\"Other\",\"AGL\":4.268663,\"MSL\":4.26866341,\"CurrentRPM\":0.0,\"MaxRPM\":0.0,\"FinalPower\":0.0,\"CurrentFuel\":0.0,\"CurrentSpeed\":0.0,\"BankAngle\":0.0,\"PitchAngle\":0.0,\"Pitch\":0.0,\"Roll\":0.0,\"Yaw\":0.0,\"Throttle\":0.0,\"StickyThrottle\":0.0,\"Brake\":0.0,\"Flaps\":0}\n"
     ]
    }
   ],
   "source": [
    "data = json.dumps(transaction_dict)\n",
    "try:    \n",
    "    sock.sendall(data.encode(\"utf-8\"))\n",
    "    data = sock.recv(1024).decode(\"utf-8\")\n",
    "    print(data)\n",
    "\n",
    "except Exception as e:\n",
    "    print(\">>>>>>>>>>>>\",e)"
   ]
  },
  {
   "cell_type": "code",
   "execution_count": null,
   "metadata": {},
   "outputs": [],
   "source": [
    "sock.close()"
   ]
  },
  {
   "cell_type": "code",
   "execution_count": null,
   "metadata": {},
   "outputs": [],
   "source": []
  }
 ],
 "metadata": {
  "interpreter": {
   "hash": "31f2aee4e71d21fbe5cf8b01ff0e069b9275f58929596ceb00d14d90e3e16cd6"
  },
  "kernelspec": {
   "display_name": "Python 3.8.10 64-bit",
   "language": "python",
   "name": "python3"
  },
  "language_info": {
   "codemirror_mode": {
    "name": "ipython",
    "version": 3
   },
   "file_extension": ".py",
   "mimetype": "text/x-python",
   "name": "python",
   "nbconvert_exporter": "python",
   "pygments_lexer": "ipython3",
   "version": "3.8.10"
  },
  "orig_nbformat": 4
 },
 "nbformat": 4,
 "nbformat_minor": 2
}
