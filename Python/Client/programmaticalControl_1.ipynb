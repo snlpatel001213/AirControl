{
 "cells": [
  {
   "cell_type": "code",
   "execution_count": 167,
   "metadata": {},
   "outputs": [],
   "source": [
    "import socket\n",
    "import time\n",
    "import json"
   ]
  },
  {
   "cell_type": "code",
   "execution_count": 168,
   "metadata": {},
   "outputs": [],
   "source": [
    "host, port =  \"127.0.0.1\" , 8053\n",
    "sock = socket.socket(socket.AF_INET, socket.SOCK_STREAM)\n",
    "sock.connect((host,port))"
   ]
  },
  {
   "cell_type": "code",
   "execution_count": 187,
   "metadata": {},
   "outputs": [],
   "source": [
    "transaction_dict = {\n",
    "            \"MsgType\": \"Transcation\",\n",
    "            \"Version\": \"0.0.3\",\n",
    "            \"InputControlType\": \"Code\",\n",
    "            \"LevelReload\": \"false\",\n",
    "            \"ActiveCamera\": 1,\n",
    "            \"IsActive\":\"true\",\n",
    "            \"SunLatitude\": -500.39,\n",
    "            \"SunLongitude\": -1650.4,\n",
    "            \"SunHour\": 16,\n",
    "            \"SunMinute\": 5,\n",
    "            \"CaptureScreen\": \"true\",\n",
    "            \"ScreenType\": 3\n",
    "        }\n"
   ]
  },
  {
   "cell_type": "code",
   "execution_count": 188,
   "metadata": {},
   "outputs": [
    {
     "name": "stdout",
     "output_type": "stream",
     "text": [
      "UFxA+lyc1IIECBAgQIBAcQEBdHFSCxIgQIAAAQK1BGTQtWStS4BAQgHpc8KhKZkAAQIECMwo8DFj03omQIAAAQIECBAgQIBAZgHpc+bpqZ0AAQIECMwl4A7oueatWwIECBAgkF3ATdDZJ6h+AgTuC0if7xtagQABAgQIEGgmIIBuRm0jAgQIECBAoIyADLqMo1UIEMgpIH3OOTdVEyBAgACBeQX8Co55Z69zAgQIECCQVED4knRwyiZAgAABAgQIECBAYEIBd0BPOHQtEyBAgACBEQTcBz3CFPVAgMBJAf8CdxLM4QQIECBAgEB/AQF0/xmogAABAgQIELgmIIO+5uYsAgSSCkifkw5O2QQIECBAYHIBAfTkLwDtEyBAgACB3AIy6NzzUz0BAocFpM+HqRxIgAABAgQIxBIQQMeah2oIECBAgACBswIy6LNijidAIJ2A9DndyBRMgAABAgQIfAkIoL8ofEGAAAECBAhkFZBBZ52cugkQOCAgfT6A5BACBAgQIEAgroAAOu5sVEaAAAECBAgcF5BBH7dyJAECiQSkz4mGpVQCBAgQIEDgqYAA+imLBwkQIECAAIF8AjLofDNTMQECuwLS510eTxIgQIAAAQI5BATQOeakSgIECBAgQOCIgAz6iJJjCBBIISB9TjEmRRIgQIAAAQJvBQTQb4kcQIAAAQIECGQSkEFnmpZaCRB4ISB9fgHjYQIECBAgQCCfgAA638xUTIAAAQIECOwLyKD3fTxLgEBwAelz8AEpjwABAgQIEDglIIA+xeVgAgQIECBAIIeADDrHnFRJgMAPAenzDxIPECBAgAABArkFBNC556d6AgQIECBA4JWADPqVjMcJEIgpIHqOORdVESBAgAABAjcFBNA3AZ1OgAABAgQIxBWQQcedjcoIEPguIH3+7uFPBAgQIECAwDgCAuhxZqkTAgQIECBA4KeADPqniUcIEIgmIH2ONhH1ECBAgAABAgUFBNAFMS1FgAABAgQIRBSQQUecipoIEPgjIH3+\n"
     ]
    }
   ],
   "source": [
    "data = json.dumps(transaction_dict)\n",
    "try:    \n",
    "    sock.sendall(data.encode(\"utf-8\"))\n",
    "    data = sock.recv(1024).decode(\"utf-8\")\n",
    "    print(data)\n",
    "\n",
    "except Exception as e:\n",
    "    print(\">>>>>>>>>>>>\",e)"
   ]
  },
  {
   "cell_type": "code",
   "execution_count": null,
   "metadata": {},
   "outputs": [],
   "source": [
    "sock.close()"
   ]
  }
 ],
 "metadata": {
  "interpreter": {
   "hash": "31f2aee4e71d21fbe5cf8b01ff0e069b9275f58929596ceb00d14d90e3e16cd6"
  },
  "kernelspec": {
   "display_name": "Python 3.8.10 64-bit",
   "language": "python",
   "name": "python3"
  },
  "language_info": {
   "codemirror_mode": {
    "name": "ipython",
    "version": 3
   },
   "file_extension": ".py",
   "mimetype": "text/x-python",
   "name": "python",
   "nbconvert_exporter": "python",
   "pygments_lexer": "ipython3",
   "version": "3.8.10"
  },
  "orig_nbformat": 4
 },
 "nbformat": 4,
 "nbformat_minor": 2
}
