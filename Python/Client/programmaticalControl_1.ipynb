{
 "cells": [
  {
   "cell_type": "code",
   "execution_count": 98,
   "metadata": {},
   "outputs": [],
   "source": [
    "import socket\n",
    "import time\n",
    "import json"
   ]
  },
  {
   "cell_type": "code",
   "execution_count": 99,
   "metadata": {},
   "outputs": [],
   "source": [
    "host, port =  \"127.0.0.1\" , 8053\n",
    "sock = socket.socket(socket.AF_INET, socket.SOCK_STREAM)\n",
    "sock.connect((host,port))"
   ]
  },
  {
   "cell_type": "code",
   "execution_count": 100,
   "metadata": {},
   "outputs": [],
   "source": [
    "transaction_dict = {\n",
    "            \"MsgType\": \"Transcation\",\n",
    "            \"Version\": \"0.0.3\",\n",
    "            \"InputControlType\": \"Code\",\n",
    "            \"LevelReload\": \"false\",\n",
    "            \"ActiveCamera\": 1,\n",
    "            \"IsActive\":\"true\",\n",
    "            \"GetOutput\": \"true\",\n",
    "            \"SunLatitude\": -11.39,\n",
    "            \"SunLongitude\": -1650.4,\n",
    "            \"SunHour\": 16,\n",
    "            \"SunMinute\": 5\n",
    "        }\n"
   ]
  },
  {
   "cell_type": "code",
   "execution_count": 102,
   "metadata": {},
   "outputs": [
    {
     "name": "stdout",
     "output_type": "stream",
     "text": [
      ">>>>>>>>>>>> [Errno 104] Connection reset by peer\n"
     ]
    }
   ],
   "source": [
    "data = json.dumps(transaction_dict)\n",
    "try:    \n",
    "    sock.sendall(data.encode(\"utf-8\"))\n",
    "    data = sock.recv(1024).decode(\"utf-8\")\n",
    "    print(data)\n",
    "\n",
    "except Exception as e:\n",
    "    print(\">>>>>>>>>>>>\",e)"
   ]
  },
  {
   "cell_type": "code",
   "execution_count": null,
   "metadata": {},
   "outputs": [],
   "source": [
    "sock.close()"
   ]
  }
 ],
 "metadata": {
  "interpreter": {
   "hash": "31f2aee4e71d21fbe5cf8b01ff0e069b9275f58929596ceb00d14d90e3e16cd6"
  },
  "kernelspec": {
   "display_name": "Python 3.8.10 64-bit",
   "language": "python",
   "name": "python3"
  },
  "language_info": {
   "codemirror_mode": {
    "name": "ipython",
    "version": 3
   },
   "file_extension": ".py",
   "mimetype": "text/x-python",
   "name": "python",
   "nbconvert_exporter": "python",
   "pygments_lexer": "ipython3",
   "version": "3.8.10"
  },
  "orig_nbformat": 4
 },
 "nbformat": 4,
 "nbformat_minor": 2
}
